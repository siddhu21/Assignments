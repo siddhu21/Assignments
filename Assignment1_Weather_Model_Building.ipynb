{
 "cells": [
  {
   "cell_type": "code",
   "execution_count": 1,
   "id": "148a700b",
   "metadata": {
    "_cell_guid": "b1076dfc-b9ad-4769-8c92-a6c4dae69d19",
    "_uuid": "8f2839f25d086af736a60e9eeb907d3b93b6e0e5",
    "execution": {
     "iopub.execute_input": "2022-03-02T15:47:15.087107Z",
     "iopub.status.busy": "2022-03-02T15:47:15.086400Z",
     "iopub.status.idle": "2022-03-02T15:47:15.098146Z",
     "shell.execute_reply": "2022-03-02T15:47:15.097667Z",
     "shell.execute_reply.started": "2022-03-02T11:59:20.517665Z"
    },
    "papermill": {
     "duration": 0.084242,
     "end_time": "2022-03-02T15:47:15.098284",
     "exception": false,
     "start_time": "2022-03-02T15:47:15.014042",
     "status": "completed"
    },
    "tags": []
   },
   "outputs": [
    {
     "name": "stdout",
     "output_type": "stream",
     "text": [
      "/kaggle/input/weather/cleaned_weather.csv\n"
     ]
    }
   ],
   "source": [
    "# This Python 3 environment comes with many helpful analytics libraries installed\n",
    "# It is defined by the kaggle/python Docker image: https://github.com/kaggle/docker-python\n",
    "# For example, here's several helpful packages to load\n",
    "\n",
    "import numpy as np # linear algebra\n",
    "import pandas as pd # data processing, CSV file I/O (e.g. pd.read_csv)\n",
    "\n",
    "# Input data files are available in the read-only \"../input/\" directory\n",
    "# For example, running this (by clicking run or pressing Shift+Enter) will list all files under the input directory\n",
    "\n",
    "import os\n",
    "for dirname, _, filenames in os.walk('/kaggle/input'):\n",
    "    for filename in filenames:\n",
    "        print(os.path.join(dirname, filename))\n",
    "\n",
    "# You can write up to 20GB to the current directory (/kaggle/working/) that gets preserved as output when you create a version using \"Save & Run All\" \n",
    "# You can also write temporary files to /kaggle/temp/, but they won't be saved outside of the current session"
   ]
  },
  {
   "cell_type": "code",
   "execution_count": 2,
   "id": "0bba07e8",
   "metadata": {
    "execution": {
     "iopub.execute_input": "2022-03-02T15:47:15.246901Z",
     "iopub.status.busy": "2022-03-02T15:47:15.246231Z",
     "iopub.status.idle": "2022-03-02T15:47:15.456240Z",
     "shell.execute_reply": "2022-03-02T15:47:15.456702Z",
     "shell.execute_reply.started": "2022-03-02T13:29:53.503596Z"
    },
    "papermill": {
     "duration": 0.303638,
     "end_time": "2022-03-02T15:47:15.456890",
     "exception": false,
     "start_time": "2022-03-02T15:47:15.153252",
     "status": "completed"
    },
    "tags": []
   },
   "outputs": [
    {
     "data": {
      "text/html": [
       "<div>\n",
       "<style scoped>\n",
       "    .dataframe tbody tr th:only-of-type {\n",
       "        vertical-align: middle;\n",
       "    }\n",
       "\n",
       "    .dataframe tbody tr th {\n",
       "        vertical-align: top;\n",
       "    }\n",
       "\n",
       "    .dataframe thead th {\n",
       "        text-align: right;\n",
       "    }\n",
       "</style>\n",
       "<table border=\"1\" class=\"dataframe\">\n",
       "  <thead>\n",
       "    <tr style=\"text-align: right;\">\n",
       "      <th></th>\n",
       "      <th>datetime_utc</th>\n",
       "      <th>conds</th>\n",
       "      <th>dewptm</th>\n",
       "      <th>fog</th>\n",
       "      <th>hum</th>\n",
       "      <th>pressurem</th>\n",
       "      <th>rain</th>\n",
       "      <th>tempm</th>\n",
       "      <th>vism</th>\n",
       "      <th>wspdm</th>\n",
       "    </tr>\n",
       "  </thead>\n",
       "  <tbody>\n",
       "    <tr>\n",
       "      <th>0</th>\n",
       "      <td>19961101-11:00</td>\n",
       "      <td>31</td>\n",
       "      <td>9.0</td>\n",
       "      <td>0</td>\n",
       "      <td>27.0</td>\n",
       "      <td>1010.0</td>\n",
       "      <td>0</td>\n",
       "      <td>30.0</td>\n",
       "      <td>5.0</td>\n",
       "      <td>7.4</td>\n",
       "    </tr>\n",
       "    <tr>\n",
       "      <th>1</th>\n",
       "      <td>19961101-12:00</td>\n",
       "      <td>31</td>\n",
       "      <td>10.0</td>\n",
       "      <td>0</td>\n",
       "      <td>32.0</td>\n",
       "      <td>-9999.0</td>\n",
       "      <td>0</td>\n",
       "      <td>28.0</td>\n",
       "      <td>2.0</td>\n",
       "      <td>0.0</td>\n",
       "    </tr>\n",
       "    <tr>\n",
       "      <th>2</th>\n",
       "      <td>19961101-13:00</td>\n",
       "      <td>31</td>\n",
       "      <td>11.0</td>\n",
       "      <td>0</td>\n",
       "      <td>44.0</td>\n",
       "      <td>-9999.0</td>\n",
       "      <td>0</td>\n",
       "      <td>24.0</td>\n",
       "      <td>2.0</td>\n",
       "      <td>0.0</td>\n",
       "    </tr>\n",
       "    <tr>\n",
       "      <th>3</th>\n",
       "      <td>19961101-14:00</td>\n",
       "      <td>31</td>\n",
       "      <td>10.0</td>\n",
       "      <td>0</td>\n",
       "      <td>41.0</td>\n",
       "      <td>1010.0</td>\n",
       "      <td>0</td>\n",
       "      <td>24.0</td>\n",
       "      <td>2.0</td>\n",
       "      <td>0.0</td>\n",
       "    </tr>\n",
       "    <tr>\n",
       "      <th>4</th>\n",
       "      <td>19961101-16:00</td>\n",
       "      <td>31</td>\n",
       "      <td>11.0</td>\n",
       "      <td>0</td>\n",
       "      <td>47.0</td>\n",
       "      <td>1011.0</td>\n",
       "      <td>0</td>\n",
       "      <td>23.0</td>\n",
       "      <td>1.2</td>\n",
       "      <td>0.0</td>\n",
       "    </tr>\n",
       "  </tbody>\n",
       "</table>\n",
       "</div>"
      ],
      "text/plain": [
       "     datetime_utc  conds  dewptm  fog   hum  pressurem  rain  tempm  vism  \\\n",
       "0  19961101-11:00     31     9.0    0  27.0     1010.0     0   30.0   5.0   \n",
       "1  19961101-12:00     31    10.0    0  32.0    -9999.0     0   28.0   2.0   \n",
       "2  19961101-13:00     31    11.0    0  44.0    -9999.0     0   24.0   2.0   \n",
       "3  19961101-14:00     31    10.0    0  41.0     1010.0     0   24.0   2.0   \n",
       "4  19961101-16:00     31    11.0    0  47.0     1011.0     0   23.0   1.2   \n",
       "\n",
       "   wspdm  \n",
       "0    7.4  \n",
       "1    0.0  \n",
       "2    0.0  \n",
       "3    0.0  \n",
       "4    0.0  "
      ]
     },
     "execution_count": 2,
     "metadata": {},
     "output_type": "execute_result"
    }
   ],
   "source": [
    "# Importing Cleaned Dataset\n",
    "df= pd.read_csv(\"/kaggle/input/weather/cleaned_weather.csv\",sep=\",\")\n",
    "df.head()"
   ]
  },
  {
   "cell_type": "code",
   "execution_count": 3,
   "id": "0117060d",
   "metadata": {
    "execution": {
     "iopub.execute_input": "2022-03-02T15:47:15.610321Z",
     "iopub.status.busy": "2022-03-02T15:47:15.609429Z",
     "iopub.status.idle": "2022-03-02T15:47:15.624774Z",
     "shell.execute_reply": "2022-03-02T15:47:15.625383Z",
     "shell.execute_reply.started": "2022-03-02T13:29:54.880042Z"
    },
    "papermill": {
     "duration": 0.113907,
     "end_time": "2022-03-02T15:47:15.625604",
     "exception": false,
     "start_time": "2022-03-02T15:47:15.511697",
     "status": "completed"
    },
    "tags": []
   },
   "outputs": [
    {
     "data": {
      "text/plain": [
       "(98913, 10)"
      ]
     },
     "execution_count": 3,
     "metadata": {},
     "output_type": "execute_result"
    }
   ],
   "source": [
    "df.shape # After Dropping, we have 10 colums"
   ]
  },
  {
   "cell_type": "code",
   "execution_count": 4,
   "id": "05725603",
   "metadata": {
    "execution": {
     "iopub.execute_input": "2022-03-02T15:47:15.823293Z",
     "iopub.status.busy": "2022-03-02T15:47:15.822459Z",
     "iopub.status.idle": "2022-03-02T15:47:15.830493Z",
     "shell.execute_reply": "2022-03-02T15:47:15.831103Z",
     "shell.execute_reply.started": "2022-03-02T13:29:56.578919Z"
    },
    "papermill": {
     "duration": 0.103891,
     "end_time": "2022-03-02T15:47:15.831304",
     "exception": false,
     "start_time": "2022-03-02T15:47:15.727413",
     "status": "completed"
    },
    "tags": []
   },
   "outputs": [],
   "source": [
    "data = df.copy()"
   ]
  },
  {
   "cell_type": "code",
   "execution_count": 5,
   "id": "c6d8e25a",
   "metadata": {
    "execution": {
     "iopub.execute_input": "2022-03-02T15:47:16.024539Z",
     "iopub.status.busy": "2022-03-02T15:47:16.023755Z",
     "iopub.status.idle": "2022-03-02T15:47:16.037773Z",
     "shell.execute_reply": "2022-03-02T15:47:16.038747Z",
     "shell.execute_reply.started": "2022-03-02T13:29:57.777374Z"
    },
    "papermill": {
     "duration": 0.115966,
     "end_time": "2022-03-02T15:47:16.038935",
     "exception": false,
     "start_time": "2022-03-02T15:47:15.922969",
     "status": "completed"
    },
    "tags": []
   },
   "outputs": [
    {
     "data": {
      "text/html": [
       "<div>\n",
       "<style scoped>\n",
       "    .dataframe tbody tr th:only-of-type {\n",
       "        vertical-align: middle;\n",
       "    }\n",
       "\n",
       "    .dataframe tbody tr th {\n",
       "        vertical-align: top;\n",
       "    }\n",
       "\n",
       "    .dataframe thead th {\n",
       "        text-align: right;\n",
       "    }\n",
       "</style>\n",
       "<table border=\"1\" class=\"dataframe\">\n",
       "  <thead>\n",
       "    <tr style=\"text-align: right;\">\n",
       "      <th></th>\n",
       "      <th>datetime_utc</th>\n",
       "      <th>conds</th>\n",
       "      <th>dewptm</th>\n",
       "      <th>fog</th>\n",
       "      <th>hum</th>\n",
       "      <th>pressurem</th>\n",
       "      <th>rain</th>\n",
       "      <th>tempm</th>\n",
       "      <th>vism</th>\n",
       "      <th>wspdm</th>\n",
       "    </tr>\n",
       "  </thead>\n",
       "  <tbody>\n",
       "    <tr>\n",
       "      <th>0</th>\n",
       "      <td>19961101-11:00</td>\n",
       "      <td>31</td>\n",
       "      <td>9.0</td>\n",
       "      <td>0</td>\n",
       "      <td>27.0</td>\n",
       "      <td>1010.0</td>\n",
       "      <td>0</td>\n",
       "      <td>30.0</td>\n",
       "      <td>5.0</td>\n",
       "      <td>7.4</td>\n",
       "    </tr>\n",
       "    <tr>\n",
       "      <th>1</th>\n",
       "      <td>19961101-12:00</td>\n",
       "      <td>31</td>\n",
       "      <td>10.0</td>\n",
       "      <td>0</td>\n",
       "      <td>32.0</td>\n",
       "      <td>-9999.0</td>\n",
       "      <td>0</td>\n",
       "      <td>28.0</td>\n",
       "      <td>2.0</td>\n",
       "      <td>0.0</td>\n",
       "    </tr>\n",
       "    <tr>\n",
       "      <th>2</th>\n",
       "      <td>19961101-13:00</td>\n",
       "      <td>31</td>\n",
       "      <td>11.0</td>\n",
       "      <td>0</td>\n",
       "      <td>44.0</td>\n",
       "      <td>-9999.0</td>\n",
       "      <td>0</td>\n",
       "      <td>24.0</td>\n",
       "      <td>2.0</td>\n",
       "      <td>0.0</td>\n",
       "    </tr>\n",
       "    <tr>\n",
       "      <th>3</th>\n",
       "      <td>19961101-14:00</td>\n",
       "      <td>31</td>\n",
       "      <td>10.0</td>\n",
       "      <td>0</td>\n",
       "      <td>41.0</td>\n",
       "      <td>1010.0</td>\n",
       "      <td>0</td>\n",
       "      <td>24.0</td>\n",
       "      <td>2.0</td>\n",
       "      <td>0.0</td>\n",
       "    </tr>\n",
       "    <tr>\n",
       "      <th>4</th>\n",
       "      <td>19961101-16:00</td>\n",
       "      <td>31</td>\n",
       "      <td>11.0</td>\n",
       "      <td>0</td>\n",
       "      <td>47.0</td>\n",
       "      <td>1011.0</td>\n",
       "      <td>0</td>\n",
       "      <td>23.0</td>\n",
       "      <td>1.2</td>\n",
       "      <td>0.0</td>\n",
       "    </tr>\n",
       "  </tbody>\n",
       "</table>\n",
       "</div>"
      ],
      "text/plain": [
       "     datetime_utc  conds  dewptm  fog   hum  pressurem  rain  tempm  vism  \\\n",
       "0  19961101-11:00     31     9.0    0  27.0     1010.0     0   30.0   5.0   \n",
       "1  19961101-12:00     31    10.0    0  32.0    -9999.0     0   28.0   2.0   \n",
       "2  19961101-13:00     31    11.0    0  44.0    -9999.0     0   24.0   2.0   \n",
       "3  19961101-14:00     31    10.0    0  41.0     1010.0     0   24.0   2.0   \n",
       "4  19961101-16:00     31    11.0    0  47.0     1011.0     0   23.0   1.2   \n",
       "\n",
       "   wspdm  \n",
       "0    7.4  \n",
       "1    0.0  \n",
       "2    0.0  \n",
       "3    0.0  \n",
       "4    0.0  "
      ]
     },
     "execution_count": 5,
     "metadata": {},
     "output_type": "execute_result"
    }
   ],
   "source": [
    "data.head()"
   ]
  },
  {
   "cell_type": "code",
   "execution_count": 6,
   "id": "d147c6e1",
   "metadata": {
    "execution": {
     "iopub.execute_input": "2022-03-02T15:47:16.243158Z",
     "iopub.status.busy": "2022-03-02T15:47:16.242142Z",
     "iopub.status.idle": "2022-03-02T15:47:16.254887Z",
     "shell.execute_reply": "2022-03-02T15:47:16.255901Z",
     "shell.execute_reply.started": "2022-03-02T13:30:01.747401Z"
    },
    "papermill": {
     "duration": 0.117627,
     "end_time": "2022-03-02T15:47:16.256087",
     "exception": false,
     "start_time": "2022-03-02T15:47:16.138460",
     "status": "completed"
    },
    "tags": []
   },
   "outputs": [
    {
     "data": {
      "text/html": [
       "<div>\n",
       "<style scoped>\n",
       "    .dataframe tbody tr th:only-of-type {\n",
       "        vertical-align: middle;\n",
       "    }\n",
       "\n",
       "    .dataframe tbody tr th {\n",
       "        vertical-align: top;\n",
       "    }\n",
       "\n",
       "    .dataframe thead th {\n",
       "        text-align: right;\n",
       "    }\n",
       "</style>\n",
       "<table border=\"1\" class=\"dataframe\">\n",
       "  <thead>\n",
       "    <tr style=\"text-align: right;\">\n",
       "      <th></th>\n",
       "      <th>datetime_utc</th>\n",
       "      <th>tempm</th>\n",
       "    </tr>\n",
       "  </thead>\n",
       "  <tbody>\n",
       "    <tr>\n",
       "      <th>0</th>\n",
       "      <td>19961101-11:00</td>\n",
       "      <td>30.0</td>\n",
       "    </tr>\n",
       "    <tr>\n",
       "      <th>1</th>\n",
       "      <td>19961101-12:00</td>\n",
       "      <td>28.0</td>\n",
       "    </tr>\n",
       "    <tr>\n",
       "      <th>2</th>\n",
       "      <td>19961101-13:00</td>\n",
       "      <td>24.0</td>\n",
       "    </tr>\n",
       "    <tr>\n",
       "      <th>3</th>\n",
       "      <td>19961101-14:00</td>\n",
       "      <td>24.0</td>\n",
       "    </tr>\n",
       "    <tr>\n",
       "      <th>4</th>\n",
       "      <td>19961101-16:00</td>\n",
       "      <td>23.0</td>\n",
       "    </tr>\n",
       "  </tbody>\n",
       "</table>\n",
       "</div>"
      ],
      "text/plain": [
       "     datetime_utc  tempm\n",
       "0  19961101-11:00   30.0\n",
       "1  19961101-12:00   28.0\n",
       "2  19961101-13:00   24.0\n",
       "3  19961101-14:00   24.0\n",
       "4  19961101-16:00   23.0"
      ]
     },
     "execution_count": 6,
     "metadata": {},
     "output_type": "execute_result"
    }
   ],
   "source": [
    "### Filtering only datetime and tempm\n",
    "data = data[['datetime_utc','tempm']]\n",
    "data.head()"
   ]
  },
  {
   "cell_type": "code",
   "execution_count": 7,
   "id": "e5c5c3e0",
   "metadata": {
    "execution": {
     "iopub.execute_input": "2022-03-02T15:47:16.457091Z",
     "iopub.status.busy": "2022-03-02T15:47:16.440579Z",
     "iopub.status.idle": "2022-03-02T15:47:17.110911Z",
     "shell.execute_reply": "2022-03-02T15:47:17.111854Z",
     "shell.execute_reply.started": "2022-03-02T13:30:03.838082Z"
    },
    "papermill": {
     "duration": 0.764433,
     "end_time": "2022-03-02T15:47:17.112072",
     "exception": false,
     "start_time": "2022-03-02T15:47:16.347639",
     "status": "completed"
    },
    "tags": []
   },
   "outputs": [],
   "source": [
    "data[\"date\"] = pd.to_datetime(data['datetime_utc'], infer_datetime_format=True)\n",
    "data = data.set_index([\"date\"])"
   ]
  },
  {
   "cell_type": "code",
   "execution_count": 8,
   "id": "24b6d428",
   "metadata": {
    "execution": {
     "iopub.execute_input": "2022-03-02T15:47:17.305639Z",
     "iopub.status.busy": "2022-03-02T15:47:17.304798Z",
     "iopub.status.idle": "2022-03-02T15:47:17.714449Z",
     "shell.execute_reply": "2022-03-02T15:47:17.714924Z",
     "shell.execute_reply.started": "2022-03-02T13:30:05.786764Z"
    },
    "papermill": {
     "duration": 0.509919,
     "end_time": "2022-03-02T15:47:17.715087",
     "exception": false,
     "start_time": "2022-03-02T15:47:17.205168",
     "status": "completed"
    },
    "tags": []
   },
   "outputs": [
    {
     "data": {
      "text/plain": [
       "datetime_utc            object\n",
       "tempm                  float64\n",
       "date            datetime64[ns]\n",
       "dtype: object"
      ]
     },
     "execution_count": 8,
     "metadata": {},
     "output_type": "execute_result"
    }
   ],
   "source": [
    "data[\"date\"]=pd.to_datetime(data[\"datetime_utc\"],format=\"%Y%m%d-%H:%M\")\n",
    "data.dtypes"
   ]
  },
  {
   "cell_type": "code",
   "execution_count": 9,
   "id": "4cead01a",
   "metadata": {
    "execution": {
     "iopub.execute_input": "2022-03-02T15:47:17.834671Z",
     "iopub.status.busy": "2022-03-02T15:47:17.833654Z",
     "iopub.status.idle": "2022-03-02T15:47:17.842584Z",
     "shell.execute_reply": "2022-03-02T15:47:17.842135Z",
     "shell.execute_reply.started": "2022-03-02T13:30:07.892053Z"
    },
    "papermill": {
     "duration": 0.070764,
     "end_time": "2022-03-02T15:47:17.842700",
     "exception": false,
     "start_time": "2022-03-02T15:47:17.771936",
     "status": "completed"
    },
    "tags": []
   },
   "outputs": [
    {
     "data": {
      "text/html": [
       "<div>\n",
       "<style scoped>\n",
       "    .dataframe tbody tr th:only-of-type {\n",
       "        vertical-align: middle;\n",
       "    }\n",
       "\n",
       "    .dataframe tbody tr th {\n",
       "        vertical-align: top;\n",
       "    }\n",
       "\n",
       "    .dataframe thead th {\n",
       "        text-align: right;\n",
       "    }\n",
       "</style>\n",
       "<table border=\"1\" class=\"dataframe\">\n",
       "  <thead>\n",
       "    <tr style=\"text-align: right;\">\n",
       "      <th></th>\n",
       "      <th>datetime_utc</th>\n",
       "      <th>tempm</th>\n",
       "    </tr>\n",
       "    <tr>\n",
       "      <th>date</th>\n",
       "      <th></th>\n",
       "      <th></th>\n",
       "    </tr>\n",
       "  </thead>\n",
       "  <tbody>\n",
       "    <tr>\n",
       "      <th>1996-11-01 11:00:00</th>\n",
       "      <td>19961101-11:00</td>\n",
       "      <td>30.0</td>\n",
       "    </tr>\n",
       "    <tr>\n",
       "      <th>1996-11-01 12:00:00</th>\n",
       "      <td>19961101-12:00</td>\n",
       "      <td>28.0</td>\n",
       "    </tr>\n",
       "    <tr>\n",
       "      <th>1996-11-01 13:00:00</th>\n",
       "      <td>19961101-13:00</td>\n",
       "      <td>24.0</td>\n",
       "    </tr>\n",
       "    <tr>\n",
       "      <th>1996-11-01 14:00:00</th>\n",
       "      <td>19961101-14:00</td>\n",
       "      <td>24.0</td>\n",
       "    </tr>\n",
       "    <tr>\n",
       "      <th>1996-11-01 16:00:00</th>\n",
       "      <td>19961101-16:00</td>\n",
       "      <td>23.0</td>\n",
       "    </tr>\n",
       "  </tbody>\n",
       "</table>\n",
       "</div>"
      ],
      "text/plain": [
       "                       datetime_utc  tempm\n",
       "date                                      \n",
       "1996-11-01 11:00:00  19961101-11:00   30.0\n",
       "1996-11-01 12:00:00  19961101-12:00   28.0\n",
       "1996-11-01 13:00:00  19961101-13:00   24.0\n",
       "1996-11-01 14:00:00  19961101-14:00   24.0\n",
       "1996-11-01 16:00:00  19961101-16:00   23.0"
      ]
     },
     "execution_count": 9,
     "metadata": {},
     "output_type": "execute_result"
    }
   ],
   "source": [
    "data=data.set_index(\"date\")\n",
    "data.head() #Making Date has Index"
   ]
  },
  {
   "cell_type": "code",
   "execution_count": 10,
   "id": "3d6c6a48",
   "metadata": {
    "execution": {
     "iopub.execute_input": "2022-03-02T15:47:17.961197Z",
     "iopub.status.busy": "2022-03-02T15:47:17.960471Z",
     "iopub.status.idle": "2022-03-02T15:47:27.357793Z",
     "shell.execute_reply": "2022-03-02T15:47:27.356929Z",
     "shell.execute_reply.started": "2022-03-02T13:29:35.080167Z"
    },
    "papermill": {
     "duration": 9.458631,
     "end_time": "2022-03-02T15:47:27.357932",
     "exception": false,
     "start_time": "2022-03-02T15:47:17.899301",
     "status": "completed"
    },
    "tags": []
   },
   "outputs": [
    {
     "name": "stdout",
     "output_type": "stream",
     "text": [
      "Collecting pmdarima\r\n",
      "  Downloading pmdarima-1.8.5-cp37-cp37m-manylinux_2_17_x86_64.manylinux2014_x86_64.manylinux_2_24_x86_64.whl (1.4 MB)\r\n",
      "     |████████████████████████████████| 1.4 MB 924 kB/s            \r\n",
      "\u001b[?25hRequirement already satisfied: pandas>=0.19 in /opt/conda/lib/python3.7/site-packages (from pmdarima) (1.3.5)\r\n",
      "Requirement already satisfied: scipy>=1.3.2 in /opt/conda/lib/python3.7/site-packages (from pmdarima) (1.7.3)\r\n",
      "Requirement already satisfied: numpy>=1.19.3 in /opt/conda/lib/python3.7/site-packages (from pmdarima) (1.20.3)\r\n",
      "Requirement already satisfied: Cython!=0.29.18,>=0.29 in /opt/conda/lib/python3.7/site-packages (from pmdarima) (0.29.27)\r\n",
      "Requirement already satisfied: urllib3 in /opt/conda/lib/python3.7/site-packages (from pmdarima) (1.26.7)\r\n",
      "Requirement already satisfied: scikit-learn>=0.22 in /opt/conda/lib/python3.7/site-packages (from pmdarima) (0.23.2)\r\n",
      "Requirement already satisfied: joblib>=0.11 in /opt/conda/lib/python3.7/site-packages (from pmdarima) (1.1.0)\r\n",
      "Requirement already satisfied: statsmodels!=0.12.0,>=0.11 in /opt/conda/lib/python3.7/site-packages (from pmdarima) (0.13.1)\r\n",
      "Requirement already satisfied: setuptools!=50.0.0,>=38.6.0 in /opt/conda/lib/python3.7/site-packages (from pmdarima) (59.5.0)\r\n",
      "Requirement already satisfied: python-dateutil>=2.7.3 in /opt/conda/lib/python3.7/site-packages (from pandas>=0.19->pmdarima) (2.8.2)\r\n",
      "Requirement already satisfied: pytz>=2017.3 in /opt/conda/lib/python3.7/site-packages (from pandas>=0.19->pmdarima) (2021.3)\r\n",
      "Requirement already satisfied: threadpoolctl>=2.0.0 in /opt/conda/lib/python3.7/site-packages (from scikit-learn>=0.22->pmdarima) (3.0.0)\r\n",
      "Requirement already satisfied: patsy>=0.5.2 in /opt/conda/lib/python3.7/site-packages (from statsmodels!=0.12.0,>=0.11->pmdarima) (0.5.2)\r\n",
      "Requirement already satisfied: six in /opt/conda/lib/python3.7/site-packages (from patsy>=0.5.2->statsmodels!=0.12.0,>=0.11->pmdarima) (1.16.0)\r\n",
      "Installing collected packages: pmdarima\r\n",
      "Successfully installed pmdarima-1.8.5\r\n",
      "\u001b[33mWARNING: Running pip as the 'root' user can result in broken permissions and conflicting behaviour with the system package manager. It is recommended to use a virtual environment instead: https://pip.pypa.io/warnings/venv\u001b[0m\r\n"
     ]
    }
   ],
   "source": [
    "!pip install pmdarima"
   ]
  },
  {
   "cell_type": "code",
   "execution_count": 11,
   "id": "f446d4b7",
   "metadata": {
    "execution": {
     "iopub.execute_input": "2022-03-02T15:47:27.486333Z",
     "iopub.status.busy": "2022-03-02T15:47:27.485617Z",
     "iopub.status.idle": "2022-03-02T15:47:29.075394Z",
     "shell.execute_reply": "2022-03-02T15:47:29.074863Z",
     "shell.execute_reply.started": "2022-03-02T13:29:45.247894Z"
    },
    "papermill": {
     "duration": 1.656468,
     "end_time": "2022-03-02T15:47:29.075516",
     "exception": false,
     "start_time": "2022-03-02T15:47:27.419048",
     "status": "completed"
    },
    "tags": []
   },
   "outputs": [],
   "source": [
    "# Load specific forecasting tools\n",
    "from statsmodels.tsa.arima_model import ARMA,ARMAResults,ARIMA,ARIMAResults\n",
    "from statsmodels.graphics.tsaplots import plot_acf,plot_pacf # for determining (p,q) orders\n",
    "from pmdarima import auto_arima # for determining ARIMA orders"
   ]
  },
  {
   "cell_type": "code",
   "execution_count": 12,
   "id": "5f21254f",
   "metadata": {
    "execution": {
     "iopub.execute_input": "2022-03-02T15:47:29.203671Z",
     "iopub.status.busy": "2022-03-02T15:47:29.202095Z",
     "iopub.status.idle": "2022-03-02T15:47:29.204252Z",
     "shell.execute_reply": "2022-03-02T15:47:29.204672Z",
     "shell.execute_reply.started": "2022-03-02T13:30:19.542023Z"
    },
    "papermill": {
     "duration": 0.069649,
     "end_time": "2022-03-02T15:47:29.204810",
     "exception": false,
     "start_time": "2022-03-02T15:47:29.135161",
     "status": "completed"
    },
    "tags": []
   },
   "outputs": [],
   "source": [
    "from statsmodels.tsa.stattools import adfuller\n",
    "\n",
    "def adf_test(series,title=''):\n",
    "    \"\"\"\n",
    "    Pass in a time series and an optional title, returns an ADF report\n",
    "    \"\"\"\n",
    "    print(f'Augmented Dickey-Fuller Test: {title}')\n",
    "    result = adfuller(series.dropna(),autolag='AIC') # .dropna() handles differenced data\n",
    "    \n",
    "    labels = ['ADF test statistic','p-value','# lags used','# observations']\n",
    "    out = pd.Series(result[0:4],index=labels)\n",
    "\n",
    "    for key,val in result[4].items():\n",
    "        out[f'critical value ({key})']=val\n",
    "        \n",
    "    print(out.to_string())          # .to_string() removes the line \"dtype: float64\"\n",
    "    \n",
    "    if result[1] <= 0.05:\n",
    "        print(\"Strong evidence against the null hypothesis\")\n",
    "        print(\"Reject the null hypothesis\")\n",
    "        print(\"Data has no unit root and is stationary\")\n",
    "    else:\n",
    "        print(\"Weak evidence against the null hypothesis\")\n",
    "        print(\"Fail to reject the null hypothesis\")\n",
    "        print(\"Data has a unit root and is non-stationary\")"
   ]
  },
  {
   "cell_type": "code",
   "execution_count": 13,
   "id": "1ee46e4e",
   "metadata": {
    "execution": {
     "iopub.execute_input": "2022-03-02T15:47:29.330048Z",
     "iopub.status.busy": "2022-03-02T15:47:29.329334Z",
     "iopub.status.idle": "2022-03-02T15:47:30.224302Z",
     "shell.execute_reply": "2022-03-02T15:47:30.224756Z",
     "shell.execute_reply.started": "2022-03-02T13:30:20.997992Z"
    },
    "papermill": {
     "duration": 0.9593,
     "end_time": "2022-03-02T15:47:30.224920",
     "exception": false,
     "start_time": "2022-03-02T15:47:29.265620",
     "status": "completed"
    },
    "tags": []
   },
   "outputs": [
    {
     "data": {
      "image/png": "[encoded data removed]",
      "text/plain": [
       "<Figure size 864x360 with 1 Axes>"
      ]
     },
     "metadata": {
      "needs_background": "light"
     },
     "output_type": "display_data"
    }
   ],
   "source": [
    "data['tempm'].plot(figsize=(12,5));"
   ]
  },
  {
   "cell_type": "code",
   "execution_count": 14,
   "id": "265cb2ff",
   "metadata": {
    "execution": {
     "iopub.execute_input": "2022-03-02T15:47:30.353503Z",
     "iopub.status.busy": "2022-03-02T15:47:30.352984Z",
     "iopub.status.idle": "2022-03-02T15:47:30.359646Z",
     "shell.execute_reply": "2022-03-02T15:47:30.359196Z",
     "shell.execute_reply.started": "2022-03-02T13:30:26.648016Z"
    },
    "papermill": {
     "duration": 0.073496,
     "end_time": "2022-03-02T15:47:30.359764",
     "exception": false,
     "start_time": "2022-03-02T15:47:30.286268",
     "status": "completed"
    },
    "tags": []
   },
   "outputs": [],
   "source": [
    "data['mavg_12'] = data['tempm'].rolling(window=12).mean().shift(1)"
   ]
  },
  {
   "cell_type": "code",
   "execution_count": 15,
   "id": "4f828b91",
   "metadata": {
    "execution": {
     "iopub.execute_input": "2022-03-02T15:47:30.493834Z",
     "iopub.status.busy": "2022-03-02T15:47:30.486945Z",
     "iopub.status.idle": "2022-03-02T15:47:30.498759Z",
     "shell.execute_reply": "2022-03-02T15:47:30.498274Z",
     "shell.execute_reply.started": "2022-03-02T13:30:27.749241Z"
    },
    "papermill": {
     "duration": 0.077666,
     "end_time": "2022-03-02T15:47:30.498871",
     "exception": false,
     "start_time": "2022-03-02T15:47:30.421205",
     "status": "completed"
    },
    "tags": []
   },
   "outputs": [
    {
     "data": {
      "text/html": [
       "<div>\n",
       "<style scoped>\n",
       "    .dataframe tbody tr th:only-of-type {\n",
       "        vertical-align: middle;\n",
       "    }\n",
       "\n",
       "    .dataframe tbody tr th {\n",
       "        vertical-align: top;\n",
       "    }\n",
       "\n",
       "    .dataframe thead th {\n",
       "        text-align: right;\n",
       "    }\n",
       "</style>\n",
       "<table border=\"1\" class=\"dataframe\">\n",
       "  <thead>\n",
       "    <tr style=\"text-align: right;\">\n",
       "      <th></th>\n",
       "      <th>tempm</th>\n",
       "      <th>mavg_12</th>\n",
       "    </tr>\n",
       "    <tr>\n",
       "      <th>date</th>\n",
       "      <th></th>\n",
       "      <th></th>\n",
       "    </tr>\n",
       "  </thead>\n",
       "  <tbody>\n",
       "    <tr>\n",
       "      <th>1996-11-02 00:00:00</th>\n",
       "      <td>19.00</td>\n",
       "      <td>22.33</td>\n",
       "    </tr>\n",
       "    <tr>\n",
       "      <th>1996-11-02 01:00:00</th>\n",
       "      <td>19.00</td>\n",
       "      <td>21.42</td>\n",
       "    </tr>\n",
       "    <tr>\n",
       "      <th>1996-11-02 02:00:00</th>\n",
       "      <td>20.00</td>\n",
       "      <td>20.67</td>\n",
       "    </tr>\n",
       "    <tr>\n",
       "      <th>1996-11-02 03:00:00</th>\n",
       "      <td>22.00</td>\n",
       "      <td>20.33</td>\n",
       "    </tr>\n",
       "    <tr>\n",
       "      <th>1996-11-02 04:00:00</th>\n",
       "      <td>23.00</td>\n",
       "      <td>20.17</td>\n",
       "    </tr>\n",
       "    <tr>\n",
       "      <th>...</th>\n",
       "      <td>...</td>\n",
       "      <td>...</td>\n",
       "    </tr>\n",
       "    <tr>\n",
       "      <th>2016-11-30 12:30:00</th>\n",
       "      <td>21.00</td>\n",
       "      <td>23.33</td>\n",
       "    </tr>\n",
       "    <tr>\n",
       "      <th>2016-11-30 13:00:00</th>\n",
       "      <td>19.00</td>\n",
       "      <td>23.67</td>\n",
       "    </tr>\n",
       "    <tr>\n",
       "      <th>2016-11-30 15:00:00</th>\n",
       "      <td>17.00</td>\n",
       "      <td>23.67</td>\n",
       "    </tr>\n",
       "    <tr>\n",
       "      <th>2016-11-30 18:00:00</th>\n",
       "      <td>15.00</td>\n",
       "      <td>23.33</td>\n",
       "    </tr>\n",
       "    <tr>\n",
       "      <th>2016-11-30 21:00:00</th>\n",
       "      <td>14.00</td>\n",
       "      <td>22.67</td>\n",
       "    </tr>\n",
       "  </tbody>\n",
       "</table>\n",
       "<p>98901 rows × 2 columns</p>\n",
       "</div>"
      ],
      "text/plain": [
       "                     tempm  mavg_12\n",
       "date                               \n",
       "1996-11-02 00:00:00  19.00    22.33\n",
       "1996-11-02 01:00:00  19.00    21.42\n",
       "1996-11-02 02:00:00  20.00    20.67\n",
       "1996-11-02 03:00:00  22.00    20.33\n",
       "1996-11-02 04:00:00  23.00    20.17\n",
       "...                    ...      ...\n",
       "2016-11-30 12:30:00  21.00    23.33\n",
       "2016-11-30 13:00:00  19.00    23.67\n",
       "2016-11-30 15:00:00  17.00    23.67\n",
       "2016-11-30 18:00:00  15.00    23.33\n",
       "2016-11-30 21:00:00  14.00    22.67\n",
       "\n",
       "[98901 rows x 2 columns]"
      ]
     },
     "execution_count": 15,
     "metadata": {},
     "output_type": "execute_result"
    }
   ],
   "source": [
    "pd.set_option('display.float_format',lambda x:'%.2f' %x)\n",
    "data[['tempm','mavg_12']][12:]"
   ]
  },
  {
   "cell_type": "code",
   "execution_count": 16,
   "id": "1c683f4a",
   "metadata": {
    "execution": {
     "iopub.execute_input": "2022-03-02T15:47:30.768627Z",
     "iopub.status.busy": "2022-03-02T15:47:30.767739Z",
     "iopub.status.idle": "2022-03-02T15:47:31.209736Z",
     "shell.execute_reply": "2022-03-02T15:47:31.209283Z",
     "shell.execute_reply.started": "2022-03-02T13:30:28.936698Z"
    },
    "papermill": {
     "duration": 0.649654,
     "end_time": "2022-03-02T15:47:31.209869",
     "exception": false,
     "start_time": "2022-03-02T15:47:30.560215",
     "status": "completed"
    },
    "tags": []
   },
   "outputs": [
    {
     "data": {
      "text/plain": [
       "<matplotlib.legend.Legend at 0x7ff97a4d8dd0>"
      ]
     },
     "execution_count": 16,
     "metadata": {},
     "output_type": "execute_result"
    },
    {
     "data": {
      "image/png": "[encoded data removed]",
      "text/plain": [
       "<Figure size 720x288 with 1 Axes>"
      ]
     },
     "metadata": {
      "needs_background": "light"
     },
     "output_type": "display_data"
    }
   ],
   "source": [
    "import matplotlib.pyplot as plt\n",
    "plt.figure(figsize=(10,4))\n",
    "plt.xlabel(\"Months\")\n",
    "plt.ylabel('tempm')\n",
    "plt.plot(data['tempm'][12:])\n",
    "plt.plot(data['mavg_12'][12:],',')\n",
    "plt.legend()"
   ]
  },
  {
   "cell_type": "code",
   "execution_count": 17,
   "id": "de94ca53",
   "metadata": {
    "execution": {
     "iopub.execute_input": "2022-03-02T15:47:31.343213Z",
     "iopub.status.busy": "2022-03-02T15:47:31.341648Z",
     "iopub.status.idle": "2022-03-02T15:47:31.343834Z",
     "shell.execute_reply": "2022-03-02T15:47:31.344241Z",
     "shell.execute_reply.started": "2022-03-02T13:30:29.869350Z"
    },
    "papermill": {
     "duration": 0.070161,
     "end_time": "2022-03-02T15:47:31.344372",
     "exception": false,
     "start_time": "2022-03-02T15:47:31.274211",
     "status": "completed"
    },
    "tags": []
   },
   "outputs": [],
   "source": [
    "def get_mape(actual,predicted):\n",
    "  y_true,y_pred = np.array(actual),np.array(predicted)\n",
    "  return np.round(np.mean(np.abs((actual-predicted)/actual))*100,2)"
   ]
  },
  {
   "cell_type": "code",
   "execution_count": 18,
   "id": "00f205ec",
   "metadata": {
    "execution": {
     "iopub.execute_input": "2022-03-02T15:47:31.477501Z",
     "iopub.status.busy": "2022-03-02T15:47:31.476753Z",
     "iopub.status.idle": "2022-03-02T15:47:31.482007Z",
     "shell.execute_reply": "2022-03-02T15:47:31.481537Z",
     "shell.execute_reply.started": "2022-03-02T13:30:34.543838Z"
    },
    "papermill": {
     "duration": 0.074281,
     "end_time": "2022-03-02T15:47:31.482115",
     "exception": false,
     "start_time": "2022-03-02T15:47:31.407834",
     "status": "completed"
    },
    "tags": []
   },
   "outputs": [
    {
     "data": {
      "text/plain": [
       "17.58"
      ]
     },
     "execution_count": 18,
     "metadata": {},
     "output_type": "execute_result"
    }
   ],
   "source": [
    "get_mape(data['tempm'][12:].values,data['mavg_12'][12:].values)"
   ]
  },
  {
   "cell_type": "code",
   "execution_count": 19,
   "id": "cc4c9b5a",
   "metadata": {
    "execution": {
     "iopub.execute_input": "2022-03-02T15:47:31.611719Z",
     "iopub.status.busy": "2022-03-02T15:47:31.610890Z",
     "iopub.status.idle": "2022-03-02T15:47:31.612896Z",
     "shell.execute_reply": "2022-03-02T15:47:31.613263Z",
     "shell.execute_reply.started": "2022-03-02T13:30:35.606945Z"
    },
    "papermill": {
     "duration": 0.067936,
     "end_time": "2022-03-02T15:47:31.613406",
     "exception": false,
     "start_time": "2022-03-02T15:47:31.545470",
     "status": "completed"
    },
    "tags": []
   },
   "outputs": [],
   "source": [
    "#MAPE of Moving Average is 17.58%"
   ]
  },
  {
   "cell_type": "code",
   "execution_count": 20,
   "id": "b7e8fc37",
   "metadata": {
    "execution": {
     "iopub.execute_input": "2022-03-02T15:47:31.744292Z",
     "iopub.status.busy": "2022-03-02T15:47:31.743508Z",
     "iopub.status.idle": "2022-03-02T15:47:31.749037Z",
     "shell.execute_reply": "2022-03-02T15:47:31.748601Z",
     "shell.execute_reply.started": "2022-03-02T13:30:35.969770Z"
    },
    "papermill": {
     "duration": 0.073218,
     "end_time": "2022-03-02T15:47:31.749139",
     "exception": false,
     "start_time": "2022-03-02T15:47:31.675921",
     "status": "completed"
    },
    "tags": []
   },
   "outputs": [
    {
     "data": {
      "text/plain": [
       "4.540206621461131"
      ]
     },
     "execution_count": 20,
     "metadata": {},
     "output_type": "execute_result"
    }
   ],
   "source": [
    "from sklearn.metrics import mean_squared_error\n",
    "np.sqrt(mean_squared_error(data['tempm'][12:].values,data['mavg_12'][12:].values))"
   ]
  },
  {
   "cell_type": "code",
   "execution_count": 21,
   "id": "1ffbec29",
   "metadata": {
    "execution": {
     "iopub.execute_input": "2022-03-02T15:47:31.879510Z",
     "iopub.status.busy": "2022-03-02T15:47:31.878762Z",
     "iopub.status.idle": "2022-03-02T15:47:31.880713Z",
     "shell.execute_reply": "2022-03-02T15:47:31.881089Z",
     "shell.execute_reply.started": "2022-03-02T13:30:36.325001Z"
    },
    "papermill": {
     "duration": 0.068729,
     "end_time": "2022-03-02T15:47:31.881210",
     "exception": false,
     "start_time": "2022-03-02T15:47:31.812481",
     "status": "completed"
    },
    "tags": []
   },
   "outputs": [],
   "source": [
    "#### RMSE Value of moving average has 4.54 SD"
   ]
  },
  {
   "cell_type": "code",
   "execution_count": 22,
   "id": "4b3936dd",
   "metadata": {
    "execution": {
     "iopub.execute_input": "2022-03-02T15:47:32.014206Z",
     "iopub.status.busy": "2022-03-02T15:47:32.013636Z",
     "iopub.status.idle": "2022-03-02T15:47:32.019353Z",
     "shell.execute_reply": "2022-03-02T15:47:32.018919Z",
     "shell.execute_reply.started": "2022-03-02T13:30:36.695712Z"
    },
    "papermill": {
     "duration": 0.072871,
     "end_time": "2022-03-02T15:47:32.019454",
     "exception": false,
     "start_time": "2022-03-02T15:47:31.946583",
     "status": "completed"
    },
    "tags": []
   },
   "outputs": [],
   "source": [
    "# Exponential Smooting\n",
    "data['ewm']=data['tempm'].ewm(alpha=0.2).mean()"
   ]
  },
  {
   "cell_type": "code",
   "execution_count": 23,
   "id": "972a369e",
   "metadata": {
    "execution": {
     "iopub.execute_input": "2022-03-02T15:47:32.150091Z",
     "iopub.status.busy": "2022-03-02T15:47:32.149265Z",
     "iopub.status.idle": "2022-03-02T15:47:32.151224Z",
     "shell.execute_reply": "2022-03-02T15:47:32.151626Z",
     "shell.execute_reply.started": "2022-03-02T13:30:37.097371Z"
    },
    "papermill": {
     "duration": 0.068732,
     "end_time": "2022-03-02T15:47:32.151752",
     "exception": false,
     "start_time": "2022-03-02T15:47:32.083020",
     "status": "completed"
    },
    "tags": []
   },
   "outputs": [],
   "source": [
    "pd.options.display.float_format='{:.2f}'.format"
   ]
  },
  {
   "cell_type": "code",
   "execution_count": 24,
   "id": "6a872b93",
   "metadata": {
    "execution": {
     "iopub.execute_input": "2022-03-02T15:47:32.291941Z",
     "iopub.status.busy": "2022-03-02T15:47:32.291113Z",
     "iopub.status.idle": "2022-03-02T15:47:32.294076Z",
     "shell.execute_reply": "2022-03-02T15:47:32.294472Z",
     "shell.execute_reply.started": "2022-03-02T13:30:37.507915Z"
    },
    "papermill": {
     "duration": 0.079075,
     "end_time": "2022-03-02T15:47:32.294604",
     "exception": false,
     "start_time": "2022-03-02T15:47:32.215529",
     "status": "completed"
    },
    "tags": []
   },
   "outputs": [
    {
     "data": {
      "text/html": [
       "<div>\n",
       "<style scoped>\n",
       "    .dataframe tbody tr th:only-of-type {\n",
       "        vertical-align: middle;\n",
       "    }\n",
       "\n",
       "    .dataframe tbody tr th {\n",
       "        vertical-align: top;\n",
       "    }\n",
       "\n",
       "    .dataframe thead th {\n",
       "        text-align: right;\n",
       "    }\n",
       "</style>\n",
       "<table border=\"1\" class=\"dataframe\">\n",
       "  <thead>\n",
       "    <tr style=\"text-align: right;\">\n",
       "      <th></th>\n",
       "      <th>datetime_utc</th>\n",
       "      <th>tempm</th>\n",
       "      <th>mavg_12</th>\n",
       "      <th>ewm</th>\n",
       "    </tr>\n",
       "    <tr>\n",
       "      <th>date</th>\n",
       "      <th></th>\n",
       "      <th></th>\n",
       "      <th></th>\n",
       "      <th></th>\n",
       "    </tr>\n",
       "  </thead>\n",
       "  <tbody>\n",
       "    <tr>\n",
       "      <th>1996-11-02 00:00:00</th>\n",
       "      <td>19961102-00:00</td>\n",
       "      <td>19.00</td>\n",
       "      <td>22.33</td>\n",
       "      <td>20.06</td>\n",
       "    </tr>\n",
       "    <tr>\n",
       "      <th>1996-11-02 01:00:00</th>\n",
       "      <td>19961102-01:00</td>\n",
       "      <td>19.00</td>\n",
       "      <td>21.42</td>\n",
       "      <td>19.84</td>\n",
       "    </tr>\n",
       "    <tr>\n",
       "      <th>1996-11-02 02:00:00</th>\n",
       "      <td>19961102-02:00</td>\n",
       "      <td>20.00</td>\n",
       "      <td>20.67</td>\n",
       "      <td>19.87</td>\n",
       "    </tr>\n",
       "    <tr>\n",
       "      <th>1996-11-02 03:00:00</th>\n",
       "      <td>19961102-03:00</td>\n",
       "      <td>22.00</td>\n",
       "      <td>20.33</td>\n",
       "      <td>20.31</td>\n",
       "    </tr>\n",
       "    <tr>\n",
       "      <th>1996-11-02 04:00:00</th>\n",
       "      <td>19961102-04:00</td>\n",
       "      <td>23.00</td>\n",
       "      <td>20.17</td>\n",
       "      <td>20.86</td>\n",
       "    </tr>\n",
       "    <tr>\n",
       "      <th>...</th>\n",
       "      <td>...</td>\n",
       "      <td>...</td>\n",
       "      <td>...</td>\n",
       "      <td>...</td>\n",
       "    </tr>\n",
       "    <tr>\n",
       "      <th>2016-11-30 12:30:00</th>\n",
       "      <td>20161130-12:30</td>\n",
       "      <td>21.00</td>\n",
       "      <td>23.33</td>\n",
       "      <td>23.07</td>\n",
       "    </tr>\n",
       "    <tr>\n",
       "      <th>2016-11-30 13:00:00</th>\n",
       "      <td>20161130-13:00</td>\n",
       "      <td>19.00</td>\n",
       "      <td>23.67</td>\n",
       "      <td>22.25</td>\n",
       "    </tr>\n",
       "    <tr>\n",
       "      <th>2016-11-30 15:00:00</th>\n",
       "      <td>20161130-15:00</td>\n",
       "      <td>17.00</td>\n",
       "      <td>23.67</td>\n",
       "      <td>21.20</td>\n",
       "    </tr>\n",
       "    <tr>\n",
       "      <th>2016-11-30 18:00:00</th>\n",
       "      <td>20161130-18:00</td>\n",
       "      <td>15.00</td>\n",
       "      <td>23.33</td>\n",
       "      <td>19.96</td>\n",
       "    </tr>\n",
       "    <tr>\n",
       "      <th>2016-11-30 21:00:00</th>\n",
       "      <td>20161130-21:00</td>\n",
       "      <td>14.00</td>\n",
       "      <td>22.67</td>\n",
       "      <td>18.77</td>\n",
       "    </tr>\n",
       "  </tbody>\n",
       "</table>\n",
       "<p>98901 rows × 4 columns</p>\n",
       "</div>"
      ],
      "text/plain": [
       "                       datetime_utc  tempm  mavg_12   ewm\n",
       "date                                                     \n",
       "1996-11-02 00:00:00  19961102-00:00  19.00    22.33 20.06\n",
       "1996-11-02 01:00:00  19961102-01:00  19.00    21.42 19.84\n",
       "1996-11-02 02:00:00  19961102-02:00  20.00    20.67 19.87\n",
       "1996-11-02 03:00:00  19961102-03:00  22.00    20.33 20.31\n",
       "1996-11-02 04:00:00  19961102-04:00  23.00    20.17 20.86\n",
       "...                             ...    ...      ...   ...\n",
       "2016-11-30 12:30:00  20161130-12:30  21.00    23.33 23.07\n",
       "2016-11-30 13:00:00  20161130-13:00  19.00    23.67 22.25\n",
       "2016-11-30 15:00:00  20161130-15:00  17.00    23.67 21.20\n",
       "2016-11-30 18:00:00  20161130-18:00  15.00    23.33 19.96\n",
       "2016-11-30 21:00:00  20161130-21:00  14.00    22.67 18.77\n",
       "\n",
       "[98901 rows x 4 columns]"
      ]
     },
     "execution_count": 24,
     "metadata": {},
     "output_type": "execute_result"
    }
   ],
   "source": [
    "data[12:]"
   ]
  },
  {
   "cell_type": "code",
   "execution_count": 25,
   "id": "54e9bd0e",
   "metadata": {
    "execution": {
     "iopub.execute_input": "2022-03-02T15:47:32.431066Z",
     "iopub.status.busy": "2022-03-02T15:47:32.430292Z",
     "iopub.status.idle": "2022-03-02T15:47:32.436024Z",
     "shell.execute_reply": "2022-03-02T15:47:32.436548Z",
     "shell.execute_reply.started": "2022-03-02T13:30:38.039777Z"
    },
    "papermill": {
     "duration": 0.078759,
     "end_time": "2022-03-02T15:47:32.436723",
     "exception": false,
     "start_time": "2022-03-02T15:47:32.357964",
     "status": "completed"
    },
    "tags": []
   },
   "outputs": [
    {
     "data": {
      "text/plain": [
       "11.57"
      ]
     },
     "execution_count": 25,
     "metadata": {},
     "output_type": "execute_result"
    }
   ],
   "source": [
    "get_mape(data[['tempm']][12:].values,data[['ewm']][12:].values)"
   ]
  },
  {
   "cell_type": "code",
   "execution_count": 26,
   "id": "c18c7a24",
   "metadata": {
    "execution": {
     "iopub.execute_input": "2022-03-02T15:47:32.571340Z",
     "iopub.status.busy": "2022-03-02T15:47:32.570571Z",
     "iopub.status.idle": "2022-03-02T15:47:33.135628Z",
     "shell.execute_reply": "2022-03-02T15:47:33.136052Z",
     "shell.execute_reply.started": "2022-03-02T13:30:38.625785Z"
    },
    "papermill": {
     "duration": 0.633865,
     "end_time": "2022-03-02T15:47:33.136196",
     "exception": false,
     "start_time": "2022-03-02T15:47:32.502331",
     "status": "completed"
    },
    "tags": []
   },
   "outputs": [
    {
     "data": {
      "text/plain": [
       "<matplotlib.legend.Legend at 0x7ff9824c2290>"
      ]
     },
     "execution_count": 26,
     "metadata": {},
     "output_type": "execute_result"
    },
    {
     "data": {
      "image/png": "[encoded data removed]",
      "text/plain": [
       "<Figure size 720x360 with 1 Axes>"
      ]
     },
     "metadata": {
      "needs_background": "light"
     },
     "output_type": "display_data"
    }
   ],
   "source": [
    "plt.figure(figsize=(10,5))\n",
    "plt.xlabel(\"Months\")\n",
    "plt.ylabel(\"Tempm\")\n",
    "plt.plot(data['tempm'][12:])\n",
    "plt.plot(data['ewm'][12:],'.')\n",
    "plt.legend()"
   ]
  },
  {
   "cell_type": "code",
   "execution_count": 27,
   "id": "b4ce19bd",
   "metadata": {
    "execution": {
     "iopub.execute_input": "2022-03-02T15:47:33.273653Z",
     "iopub.status.busy": "2022-03-02T15:47:33.272954Z",
     "iopub.status.idle": "2022-03-02T15:47:34.138894Z",
     "shell.execute_reply": "2022-03-02T15:47:34.139309Z",
     "shell.execute_reply.started": "2022-03-02T13:30:41.840366Z"
    },
    "papermill": {
     "duration": 0.937144,
     "end_time": "2022-03-02T15:47:34.139453",
     "exception": false,
     "start_time": "2022-03-02T15:47:33.202309",
     "status": "completed"
    },
    "tags": []
   },
   "outputs": [
    {
     "data": {
      "image/png": "[encoded data removed]",
      "text/plain": [
       "<Figure size 432x288 with 4 Axes>"
      ]
     },
     "metadata": {
      "needs_background": "light"
     },
     "output_type": "display_data"
    }
   ],
   "source": [
    "from statsmodels.tsa.seasonal import seasonal_decompose\n",
    "ts_decompose = seasonal_decompose(np.array(data['tempm']),model = \"multiplicative\",period=12)\n",
    "ts_plot = ts_decompose.plot()"
   ]
  },
  {
   "cell_type": "code",
   "execution_count": 28,
   "id": "4c401568",
   "metadata": {
    "execution": {
     "iopub.execute_input": "2022-03-02T15:47:34.283250Z",
     "iopub.status.busy": "2022-03-02T15:47:34.276287Z",
     "iopub.status.idle": "2022-03-02T15:47:34.286039Z",
     "shell.execute_reply": "2022-03-02T15:47:34.286445Z",
     "shell.execute_reply.started": "2022-03-02T13:30:44.287101Z"
    },
    "papermill": {
     "duration": 0.079848,
     "end_time": "2022-03-02T15:47:34.286587",
     "exception": false,
     "start_time": "2022-03-02T15:47:34.206739",
     "status": "completed"
    },
    "tags": []
   },
   "outputs": [
    {
     "data": {
      "text/html": [
       "<div>\n",
       "<style scoped>\n",
       "    .dataframe tbody tr th:only-of-type {\n",
       "        vertical-align: middle;\n",
       "    }\n",
       "\n",
       "    .dataframe tbody tr th {\n",
       "        vertical-align: top;\n",
       "    }\n",
       "\n",
       "    .dataframe thead th {\n",
       "        text-align: right;\n",
       "    }\n",
       "</style>\n",
       "<table border=\"1\" class=\"dataframe\">\n",
       "  <thead>\n",
       "    <tr style=\"text-align: right;\">\n",
       "      <th></th>\n",
       "      <th>datetime_utc</th>\n",
       "      <th>tempm</th>\n",
       "      <th>mavg_12</th>\n",
       "      <th>ewm</th>\n",
       "    </tr>\n",
       "    <tr>\n",
       "      <th>date</th>\n",
       "      <th></th>\n",
       "      <th></th>\n",
       "      <th></th>\n",
       "      <th></th>\n",
       "    </tr>\n",
       "  </thead>\n",
       "  <tbody>\n",
       "    <tr>\n",
       "      <th>2016-11-30 12:30:00</th>\n",
       "      <td>20161130-12:30</td>\n",
       "      <td>21.00</td>\n",
       "      <td>23.33</td>\n",
       "      <td>23.07</td>\n",
       "    </tr>\n",
       "    <tr>\n",
       "      <th>2016-11-30 13:00:00</th>\n",
       "      <td>20161130-13:00</td>\n",
       "      <td>19.00</td>\n",
       "      <td>23.67</td>\n",
       "      <td>22.25</td>\n",
       "    </tr>\n",
       "    <tr>\n",
       "      <th>2016-11-30 15:00:00</th>\n",
       "      <td>20161130-15:00</td>\n",
       "      <td>17.00</td>\n",
       "      <td>23.67</td>\n",
       "      <td>21.20</td>\n",
       "    </tr>\n",
       "    <tr>\n",
       "      <th>2016-11-30 18:00:00</th>\n",
       "      <td>20161130-18:00</td>\n",
       "      <td>15.00</td>\n",
       "      <td>23.33</td>\n",
       "      <td>19.96</td>\n",
       "    </tr>\n",
       "    <tr>\n",
       "      <th>2016-11-30 21:00:00</th>\n",
       "      <td>20161130-21:00</td>\n",
       "      <td>14.00</td>\n",
       "      <td>22.67</td>\n",
       "      <td>18.77</td>\n",
       "    </tr>\n",
       "  </tbody>\n",
       "</table>\n",
       "</div>"
      ],
      "text/plain": [
       "                       datetime_utc  tempm  mavg_12   ewm\n",
       "date                                                     \n",
       "2016-11-30 12:30:00  20161130-12:30  21.00    23.33 23.07\n",
       "2016-11-30 13:00:00  20161130-13:00  19.00    23.67 22.25\n",
       "2016-11-30 15:00:00  20161130-15:00  17.00    23.67 21.20\n",
       "2016-11-30 18:00:00  20161130-18:00  15.00    23.33 19.96\n",
       "2016-11-30 21:00:00  20161130-21:00  14.00    22.67 18.77"
      ]
     },
     "execution_count": 28,
     "metadata": {},
     "output_type": "execute_result"
    }
   ],
   "source": [
    "data.tail()"
   ]
  },
  {
   "cell_type": "code",
   "execution_count": 29,
   "id": "0069ce48",
   "metadata": {
    "execution": {
     "iopub.execute_input": "2022-03-02T15:47:34.426332Z",
     "iopub.status.busy": "2022-03-02T15:47:34.425609Z",
     "iopub.status.idle": "2022-03-02T15:47:34.428157Z",
     "shell.execute_reply": "2022-03-02T15:47:34.427676Z",
     "shell.execute_reply.started": "2022-03-02T13:30:45.079653Z"
    },
    "papermill": {
     "duration": 0.074158,
     "end_time": "2022-03-02T15:47:34.428271",
     "exception": false,
     "start_time": "2022-03-02T15:47:34.354113",
     "status": "completed"
    },
    "tags": []
   },
   "outputs": [],
   "source": [
    "#### Tempm in data has a trend which is decreasing over a period. "
   ]
  },
  {
   "cell_type": "code",
   "execution_count": 30,
   "id": "6efad6af",
   "metadata": {
    "execution": {
     "iopub.execute_input": "2022-03-02T15:47:34.568192Z",
     "iopub.status.busy": "2022-03-02T15:47:34.567413Z",
     "iopub.status.idle": "2022-03-02T15:48:04.423946Z",
     "shell.execute_reply": "2022-03-02T15:48:04.424974Z",
     "shell.execute_reply.started": "2022-03-02T13:30:45.812567Z"
    },
    "papermill": {
     "duration": 29.928733,
     "end_time": "2022-03-02T15:48:04.425228",
     "exception": false,
     "start_time": "2022-03-02T15:47:34.496495",
     "status": "completed"
    },
    "tags": []
   },
   "outputs": [
    {
     "name": "stdout",
     "output_type": "stream",
     "text": [
      "Augmented Dickey-Fuller Test: \n",
      "ADF test statistic        -7.60\n",
      "p-value                    0.00\n",
      "# lags used               68.00\n",
      "# observations         98844.00\n",
      "critical value (1%)       -3.43\n",
      "critical value (5%)       -2.86\n",
      "critical value (10%)      -2.57\n",
      "Strong evidence against the null hypothesis\n",
      "Reject the null hypothesis\n",
      "Data has no unit root and is stationary\n"
     ]
    }
   ],
   "source": [
    "adf_test(data['tempm'])"
   ]
  },
  {
   "cell_type": "code",
   "execution_count": 31,
   "id": "9a384d52",
   "metadata": {
    "execution": {
     "iopub.execute_input": "2022-03-02T15:48:04.618628Z",
     "iopub.status.busy": "2022-03-02T15:48:04.617888Z",
     "iopub.status.idle": "2022-03-02T15:48:04.620265Z",
     "shell.execute_reply": "2022-03-02T15:48:04.619869Z",
     "shell.execute_reply.started": "2022-03-02T13:31:44.728497Z"
    },
    "papermill": {
     "duration": 0.073694,
     "end_time": "2022-03-02T15:48:04.620372",
     "exception": false,
     "start_time": "2022-03-02T15:48:04.546678",
     "status": "completed"
    },
    "tags": []
   },
   "outputs": [],
   "source": [
    "#### As P-Value is less than 0.05, we can reject the Null Hypothesis. Hence, the data is stationary."
   ]
  },
  {
   "cell_type": "code",
   "execution_count": 32,
   "id": "cc0923fb",
   "metadata": {
    "execution": {
     "iopub.execute_input": "2022-03-02T15:48:04.793113Z",
     "iopub.status.busy": "2022-03-02T15:48:04.792232Z",
     "iopub.status.idle": "2022-03-02T15:48:05.599758Z",
     "shell.execute_reply": "2022-03-02T15:48:05.599299Z",
     "shell.execute_reply.started": "2022-03-02T13:31:46.025088Z"
    },
    "papermill": {
     "duration": 0.911525,
     "end_time": "2022-03-02T15:48:05.599893",
     "exception": false,
     "start_time": "2022-03-02T15:48:04.688368",
     "status": "completed"
    },
    "tags": []
   },
   "outputs": [
    {
     "data": {
      "text/plain": [
       "<AxesSubplot:xlabel='date'>"
      ]
     },
     "execution_count": 32,
     "metadata": {},
     "output_type": "execute_result"
    },
    {
     "data": {
      "image/png": "[encoded data removed]",
      "text/plain": [
       "<Figure size 432x288 with 1 Axes>"
      ]
     },
     "metadata": {
      "needs_background": "light"
     },
     "output_type": "display_data"
    }
   ],
   "source": [
    "data['tempm'].plot()"
   ]
  },
  {
   "cell_type": "code",
   "execution_count": 33,
   "id": "d324a638",
   "metadata": {
    "execution": {
     "iopub.execute_input": "2022-03-02T15:48:05.761463Z",
     "iopub.status.busy": "2022-03-02T15:48:05.745384Z",
     "iopub.status.idle": "2022-03-02T15:48:08.771316Z",
     "shell.execute_reply": "2022-03-02T15:48:08.770888Z",
     "shell.execute_reply.started": "2022-03-02T13:31:50.583343Z"
    },
    "papermill": {
     "duration": 3.101898,
     "end_time": "2022-03-02T15:48:08.771441",
     "exception": false,
     "start_time": "2022-03-02T15:48:05.669543",
     "status": "completed"
    },
    "tags": []
   },
   "outputs": [
    {
     "name": "stderr",
     "output_type": "stream",
     "text": [
      "/opt/conda/lib/python3.7/site-packages/statsmodels/graphics/tsaplots.py:353: FutureWarning: The default method 'yw' can produce PACF values outside of the [-1,1] interval. After 0.13, the default will change tounadjusted Yule-Walker ('ywm'). You can use this method now by setting method='ywm'.\n",
      "  FutureWarning,\n"
     ]
    },
    {
     "data": {
      "image/png": "[encoded data removed]",
      "text/plain": [
       "<Figure size 864x576 with 2 Axes>"
      ]
     },
     "metadata": {
      "needs_background": "light"
     },
     "output_type": "display_data"
    }
   ],
   "source": [
    "from statsmodels.graphics.tsaplots import plot_acf,plot_pacf\n",
    "import statsmodels.api as sm\n",
    "fig = plt.figure(figsize=(12,8))\n",
    "ax1 = fig.add_subplot(121)\n",
    "fig = sm.graphics.tsa.plot_acf(data['tempm'],lags=20,ax=ax1)\n",
    "ax1 = fig.add_subplot(122)\n",
    "fig = sm.graphics.tsa.plot_pacf(data['tempm'],lags=20,ax=ax1)"
   ]
  },
  {
   "cell_type": "code",
   "execution_count": 34,
   "id": "6452998e",
   "metadata": {
    "execution": {
     "iopub.execute_input": "2022-03-02T15:48:08.918064Z",
     "iopub.status.busy": "2022-03-02T15:48:08.917345Z",
     "iopub.status.idle": "2022-03-02T15:48:08.919861Z",
     "shell.execute_reply": "2022-03-02T15:48:08.919376Z",
     "shell.execute_reply.started": "2022-03-02T13:31:55.938321Z"
    },
    "papermill": {
     "duration": 0.07748,
     "end_time": "2022-03-02T15:48:08.919976",
     "exception": false,
     "start_time": "2022-03-02T15:48:08.842496",
     "status": "completed"
    },
    "tags": []
   },
   "outputs": [],
   "source": [
    "import statsmodels.api as sm"
   ]
  },
  {
   "cell_type": "code",
   "execution_count": 35,
   "id": "1015c6d9",
   "metadata": {
    "execution": {
     "iopub.execute_input": "2022-03-02T15:48:09.066255Z",
     "iopub.status.busy": "2022-03-02T15:48:09.065645Z",
     "iopub.status.idle": "2022-03-02T15:48:09.068219Z",
     "shell.execute_reply": "2022-03-02T15:48:09.068636Z",
     "shell.execute_reply.started": "2022-03-02T13:31:55.947662Z"
    },
    "papermill": {
     "duration": 0.078917,
     "end_time": "2022-03-02T15:48:09.068772",
     "exception": false,
     "start_time": "2022-03-02T15:48:08.989855",
     "status": "completed"
    },
    "tags": []
   },
   "outputs": [
    {
     "data": {
      "text/plain": [
       "(98913, 4)"
      ]
     },
     "execution_count": 35,
     "metadata": {},
     "output_type": "execute_result"
    }
   ],
   "source": [
    "data.shape"
   ]
  },
  {
   "cell_type": "code",
   "execution_count": 36,
   "id": "c8d596fd",
   "metadata": {
    "execution": {
     "iopub.execute_input": "2022-03-02T15:48:09.214719Z",
     "iopub.status.busy": "2022-03-02T15:48:09.213929Z",
     "iopub.status.idle": "2022-03-02T15:48:09.218176Z",
     "shell.execute_reply": "2022-03-02T15:48:09.218537Z",
     "shell.execute_reply.started": "2022-03-02T13:31:55.968368Z"
    },
    "papermill": {
     "duration": 0.078597,
     "end_time": "2022-03-02T15:48:09.218693",
     "exception": false,
     "start_time": "2022-03-02T15:48:09.140096",
     "status": "completed"
    },
    "tags": []
   },
   "outputs": [],
   "source": [
    "data_train=data[0:80000]\n",
    "data_test=data[80000:]"
   ]
  },
  {
   "cell_type": "code",
   "execution_count": 37,
   "id": "80730641",
   "metadata": {
    "execution": {
     "iopub.execute_input": "2022-03-02T15:48:09.374284Z",
     "iopub.status.busy": "2022-03-02T15:48:09.368396Z",
     "iopub.status.idle": "2022-03-02T15:48:09.377847Z",
     "shell.execute_reply": "2022-03-02T15:48:09.377386Z",
     "shell.execute_reply.started": "2022-03-02T13:31:55.985619Z"
    },
    "papermill": {
     "duration": 0.087665,
     "end_time": "2022-03-02T15:48:09.377961",
     "exception": false,
     "start_time": "2022-03-02T15:48:09.290296",
     "status": "completed"
    },
    "tags": []
   },
   "outputs": [
    {
     "data": {
      "text/html": [
       "<div>\n",
       "<style scoped>\n",
       "    .dataframe tbody tr th:only-of-type {\n",
       "        vertical-align: middle;\n",
       "    }\n",
       "\n",
       "    .dataframe tbody tr th {\n",
       "        vertical-align: top;\n",
       "    }\n",
       "\n",
       "    .dataframe thead th {\n",
       "        text-align: right;\n",
       "    }\n",
       "</style>\n",
       "<table border=\"1\" class=\"dataframe\">\n",
       "  <thead>\n",
       "    <tr style=\"text-align: right;\">\n",
       "      <th></th>\n",
       "      <th>datetime_utc</th>\n",
       "      <th>tempm</th>\n",
       "      <th>mavg_12</th>\n",
       "      <th>ewm</th>\n",
       "    </tr>\n",
       "    <tr>\n",
       "      <th>date</th>\n",
       "      <th></th>\n",
       "      <th></th>\n",
       "      <th></th>\n",
       "      <th></th>\n",
       "    </tr>\n",
       "  </thead>\n",
       "  <tbody>\n",
       "    <tr>\n",
       "      <th>1996-11-01 11:00:00</th>\n",
       "      <td>19961101-11:00</td>\n",
       "      <td>30.00</td>\n",
       "      <td>NaN</td>\n",
       "      <td>30.00</td>\n",
       "    </tr>\n",
       "    <tr>\n",
       "      <th>1996-11-01 12:00:00</th>\n",
       "      <td>19961101-12:00</td>\n",
       "      <td>28.00</td>\n",
       "      <td>NaN</td>\n",
       "      <td>28.89</td>\n",
       "    </tr>\n",
       "    <tr>\n",
       "      <th>1996-11-01 13:00:00</th>\n",
       "      <td>19961101-13:00</td>\n",
       "      <td>24.00</td>\n",
       "      <td>NaN</td>\n",
       "      <td>26.89</td>\n",
       "    </tr>\n",
       "    <tr>\n",
       "      <th>1996-11-01 14:00:00</th>\n",
       "      <td>19961101-14:00</td>\n",
       "      <td>24.00</td>\n",
       "      <td>NaN</td>\n",
       "      <td>25.91</td>\n",
       "    </tr>\n",
       "    <tr>\n",
       "      <th>1996-11-01 16:00:00</th>\n",
       "      <td>19961101-16:00</td>\n",
       "      <td>23.00</td>\n",
       "      <td>NaN</td>\n",
       "      <td>25.04</td>\n",
       "    </tr>\n",
       "    <tr>\n",
       "      <th>...</th>\n",
       "      <td>...</td>\n",
       "      <td>...</td>\n",
       "      <td>...</td>\n",
       "      <td>...</td>\n",
       "    </tr>\n",
       "    <tr>\n",
       "      <th>2011-03-21 18:00:00</th>\n",
       "      <td>20110321-18:00</td>\n",
       "      <td>20.00</td>\n",
       "      <td>25.92</td>\n",
       "      <td>24.67</td>\n",
       "    </tr>\n",
       "    <tr>\n",
       "      <th>2011-03-21 21:00:00</th>\n",
       "      <td>20110321-21:00</td>\n",
       "      <td>19.00</td>\n",
       "      <td>25.75</td>\n",
       "      <td>23.54</td>\n",
       "    </tr>\n",
       "    <tr>\n",
       "      <th>2011-03-22 00:00:00</th>\n",
       "      <td>20110322-00:00</td>\n",
       "      <td>16.00</td>\n",
       "      <td>24.83</td>\n",
       "      <td>22.03</td>\n",
       "    </tr>\n",
       "    <tr>\n",
       "      <th>2011-03-22 03:00:00</th>\n",
       "      <td>20110322-03:00</td>\n",
       "      <td>20.00</td>\n",
       "      <td>23.42</td>\n",
       "      <td>21.62</td>\n",
       "    </tr>\n",
       "    <tr>\n",
       "      <th>2011-03-22 09:00:00</th>\n",
       "      <td>20110322-09:00</td>\n",
       "      <td>33.00</td>\n",
       "      <td>22.42</td>\n",
       "      <td>23.90</td>\n",
       "    </tr>\n",
       "  </tbody>\n",
       "</table>\n",
       "<p>80000 rows × 4 columns</p>\n",
       "</div>"
      ],
      "text/plain": [
       "                       datetime_utc  tempm  mavg_12   ewm\n",
       "date                                                     \n",
       "1996-11-01 11:00:00  19961101-11:00  30.00      NaN 30.00\n",
       "1996-11-01 12:00:00  19961101-12:00  28.00      NaN 28.89\n",
       "1996-11-01 13:00:00  19961101-13:00  24.00      NaN 26.89\n",
       "1996-11-01 14:00:00  19961101-14:00  24.00      NaN 25.91\n",
       "1996-11-01 16:00:00  19961101-16:00  23.00      NaN 25.04\n",
       "...                             ...    ...      ...   ...\n",
       "2011-03-21 18:00:00  20110321-18:00  20.00    25.92 24.67\n",
       "2011-03-21 21:00:00  20110321-21:00  19.00    25.75 23.54\n",
       "2011-03-22 00:00:00  20110322-00:00  16.00    24.83 22.03\n",
       "2011-03-22 03:00:00  20110322-03:00  20.00    23.42 21.62\n",
       "2011-03-22 09:00:00  20110322-09:00  33.00    22.42 23.90\n",
       "\n",
       "[80000 rows x 4 columns]"
      ]
     },
     "execution_count": 37,
     "metadata": {},
     "output_type": "execute_result"
    }
   ],
   "source": [
    "data_train"
   ]
  },
  {
   "cell_type": "code",
   "execution_count": 38,
   "id": "7844ed53",
   "metadata": {
    "execution": {
     "iopub.execute_input": "2022-03-02T15:48:09.526621Z",
     "iopub.status.busy": "2022-03-02T15:48:09.525824Z",
     "iopub.status.idle": "2022-03-02T15:48:25.224860Z",
     "shell.execute_reply": "2022-03-02T15:48:25.225577Z",
     "shell.execute_reply.started": "2022-03-02T13:32:44.562034Z"
    },
    "papermill": {
     "duration": 15.77517,
     "end_time": "2022-03-02T15:48:25.225809",
     "exception": false,
     "start_time": "2022-03-02T15:48:09.450639",
     "status": "completed"
    },
    "tags": []
   },
   "outputs": [
    {
     "name": "stderr",
     "output_type": "stream",
     "text": [
      "/opt/conda/lib/python3.7/site-packages/statsmodels/tsa/base/tsa_model.py:595: ValueWarning: A date index has been provided, but it has no associated frequency information and so will be ignored when e.g. forecasting.\n",
      "  ' ignored when e.g. forecasting.', ValueWarning)\n",
      "/opt/conda/lib/python3.7/site-packages/statsmodels/tsa/base/tsa_model.py:595: ValueWarning: A date index has been provided, but it has no associated frequency information and so will be ignored when e.g. forecasting.\n",
      "  ' ignored when e.g. forecasting.', ValueWarning)\n",
      "/opt/conda/lib/python3.7/site-packages/statsmodels/tsa/base/tsa_model.py:595: ValueWarning: A date index has been provided, but it has no associated frequency information and so will be ignored when e.g. forecasting.\n",
      "  ' ignored when e.g. forecasting.', ValueWarning)\n"
     ]
    },
    {
     "data": {
      "text/html": [
       "<table class=\"simpletable\">\n",
       "<caption>SARIMAX Results</caption>\n",
       "<tr>\n",
       "  <th>Dep. Variable:</th>         <td>tempm</td>      <th>  No. Observations:  </th>    <td>80000</td>   \n",
       "</tr>\n",
       "<tr>\n",
       "  <th>Model:</th>                 <td>ARIMA</td>      <th>  Log Likelihood     </th> <td>-284760.542</td>\n",
       "</tr>\n",
       "<tr>\n",
       "  <th>Date:</th>            <td>Wed, 02 Mar 2022</td> <th>  AIC                </th> <td>569525.084</td> \n",
       "</tr>\n",
       "<tr>\n",
       "  <th>Time:</th>                <td>15:48:23</td>     <th>  BIC                </th> <td>569543.663</td> \n",
       "</tr>\n",
       "<tr>\n",
       "  <th>Sample:</th>                  <td>0</td>        <th>  HQIC               </th> <td>569530.779</td> \n",
       "</tr>\n",
       "<tr>\n",
       "  <th></th>                     <td> - 80000</td>     <th>                     </th>      <td> </td>     \n",
       "</tr>\n",
       "<tr>\n",
       "  <th>Covariance Type:</th>        <td>opg</td>       <th>                     </th>      <td> </td>     \n",
       "</tr>\n",
       "</table>\n",
       "<table class=\"simpletable\">\n",
       "<tr>\n",
       "     <td></td>       <th>coef</th>     <th>std err</th>      <th>z</th>      <th>P>|z|</th>  <th>[0.025</th>    <th>0.975]</th>  \n",
       "</tr>\n",
       "<tr>\n",
       "  <th>const</th>  <td>   25.3990</td> <td>    0.031</td> <td>  812.923</td> <td> 0.000</td> <td>   25.338</td> <td>   25.460</td>\n",
       "</tr>\n",
       "<tr>\n",
       "  <th>sigma2</th> <td>   72.3242</td> <td>    0.454</td> <td>  159.232</td> <td> 0.000</td> <td>   71.434</td> <td>   73.214</td>\n",
       "</tr>\n",
       "</table>\n",
       "<table class=\"simpletable\">\n",
       "<tr>\n",
       "  <th>Ljung-Box (L1) (Q):</th>     <td>72616.84</td> <th>  Jarque-Bera (JB):  </th> <td>2675.93</td>\n",
       "</tr>\n",
       "<tr>\n",
       "  <th>Prob(Q):</th>                  <td>0.00</td>   <th>  Prob(JB):          </th>  <td>0.00</td>  \n",
       "</tr>\n",
       "<tr>\n",
       "  <th>Heteroskedasticity (H):</th>   <td>1.03</td>   <th>  Skew:              </th>  <td>-0.32</td> \n",
       "</tr>\n",
       "<tr>\n",
       "  <th>Prob(H) (two-sided):</th>      <td>0.01</td>   <th>  Kurtosis:          </th>  <td>2.37</td>  \n",
       "</tr>\n",
       "</table><br/><br/>Warnings:<br/>[1] Covariance matrix calculated using the outer product of gradients (complex-step)."
      ],
      "text/plain": [
       "<class 'statsmodels.iolib.summary.Summary'>\n",
       "\"\"\"\n",
       "                               SARIMAX Results                                \n",
       "==============================================================================\n",
       "Dep. Variable:                  tempm   No. Observations:                80000\n",
       "Model:                          ARIMA   Log Likelihood             -284760.542\n",
       "Date:                Wed, 02 Mar 2022   AIC                         569525.084\n",
       "Time:                        15:48:23   BIC                         569543.663\n",
       "Sample:                             0   HQIC                        569530.779\n",
       "                              - 80000                                         \n",
       "Covariance Type:                  opg                                         \n",
       "==============================================================================\n",
       "                 coef    std err          z      P>|z|      [0.025      0.975]\n",
       "------------------------------------------------------------------------------\n",
       "const         25.3990      0.031    812.923      0.000      25.338      25.460\n",
       "sigma2        72.3242      0.454    159.232      0.000      71.434      73.214\n",
       "===================================================================================\n",
       "Ljung-Box (L1) (Q):               72616.84   Jarque-Bera (JB):              2675.93\n",
       "Prob(Q):                              0.00   Prob(JB):                         0.00\n",
       "Heteroskedasticity (H):               1.03   Skew:                            -0.32\n",
       "Prob(H) (two-sided):                  0.01   Kurtosis:                         2.37\n",
       "===================================================================================\n",
       "\n",
       "Warnings:\n",
       "[1] Covariance matrix calculated using the outer product of gradients (complex-step).\n",
       "\"\"\""
      ]
     },
     "execution_count": 38,
     "metadata": {},
     "output_type": "execute_result"
    }
   ],
   "source": [
    "from statsmodels.tsa.arima_model import ARIMA\n",
    "model=sm.tsa.arima.ARIMA(data_train['tempm'])\n",
    "model_fit=model.fit()\n",
    "model_fit.summary()"
   ]
  },
  {
   "cell_type": "code",
   "execution_count": 39,
   "id": "a9582305",
   "metadata": {
    "execution": {
     "iopub.execute_input": "2022-03-02T15:48:25.433615Z",
     "iopub.status.busy": "2022-03-02T15:48:25.421061Z",
     "iopub.status.idle": "2022-03-02T15:48:27.368018Z",
     "shell.execute_reply": "2022-03-02T15:48:27.367537Z",
     "shell.execute_reply.started": "2022-03-02T13:33:13.080054Z"
    },
    "papermill": {
     "duration": 2.024075,
     "end_time": "2022-03-02T15:48:27.368145",
     "exception": false,
     "start_time": "2022-03-02T15:48:25.344070",
     "status": "completed"
    },
    "tags": []
   },
   "outputs": [
    {
     "data": {
      "image/png": "[encoded data removed]",
      "text/plain": [
       "<Figure size 432x288 with 1 Axes>"
      ]
     },
     "metadata": {
      "needs_background": "light"
     },
     "output_type": "display_data"
    }
   ],
   "source": [
    "acf_plot = plot_acf(model_fit.resid,lags = 20)"
   ]
  },
  {
   "cell_type": "code",
   "execution_count": 40,
   "id": "cc4572cc",
   "metadata": {
    "execution": {
     "iopub.execute_input": "2022-03-02T15:48:27.538418Z",
     "iopub.status.busy": "2022-03-02T15:48:27.537265Z",
     "iopub.status.idle": "2022-03-02T15:48:27.749542Z",
     "shell.execute_reply": "2022-03-02T15:48:27.749126Z",
     "shell.execute_reply.started": "2022-03-02T13:33:17.640122Z"
    },
    "papermill": {
     "duration": 0.306907,
     "end_time": "2022-03-02T15:48:27.749693",
     "exception": false,
     "start_time": "2022-03-02T15:48:27.442786",
     "status": "completed"
    },
    "tags": []
   },
   "outputs": [
    {
     "name": "stderr",
     "output_type": "stream",
     "text": [
      "/opt/conda/lib/python3.7/site-packages/statsmodels/graphics/tsaplots.py:353: FutureWarning: The default method 'yw' can produce PACF values outside of the [-1,1] interval. After 0.13, the default will change tounadjusted Yule-Walker ('ywm'). You can use this method now by setting method='ywm'.\n",
      "  FutureWarning,\n"
     ]
    },
    {
     "data": {
      "image/png": "[encoded data removed]",
      "text/plain": [
       "<Figure size 432x288 with 1 Axes>"
      ]
     },
     "metadata": {
      "needs_background": "light"
     },
     "output_type": "display_data"
    }
   ],
   "source": [
    "pacf_plot = plot_pacf(model_fit.resid,lags = 20)"
   ]
  },
  {
   "cell_type": "code",
   "execution_count": 41,
   "id": "696797ce",
   "metadata": {
    "execution": {
     "iopub.execute_input": "2022-03-02T15:48:27.908781Z",
     "iopub.status.busy": "2022-03-02T15:48:27.907880Z",
     "iopub.status.idle": "2022-03-02T15:48:27.920009Z",
     "shell.execute_reply": "2022-03-02T15:48:27.921409Z",
     "shell.execute_reply.started": "2022-03-02T13:33:19.568382Z"
    },
    "papermill": {
     "duration": 0.097284,
     "end_time": "2022-03-02T15:48:27.921639",
     "exception": false,
     "start_time": "2022-03-02T15:48:27.824355",
     "status": "completed"
    },
    "tags": []
   },
   "outputs": [
    {
     "name": "stderr",
     "output_type": "stream",
     "text": [
      "/opt/conda/lib/python3.7/site-packages/statsmodels/tsa/base/tsa_model.py:393: ValueWarning: No supported index is available. Prediction results will be given with an integer index beginning at `start`.\n",
      "  ValueWarning)\n"
     ]
    },
    {
     "data": {
      "text/plain": [
       "25.398980324040643"
      ]
     },
     "execution_count": 41,
     "metadata": {},
     "output_type": "execute_result"
    }
   ],
   "source": [
    "temp_predict,stderr,ci=model_fit.forecast(steps=3)\n",
    "temp_predict"
   ]
  },
  {
   "cell_type": "code",
   "execution_count": 42,
   "id": "d9ab978f",
   "metadata": {
    "execution": {
     "iopub.execute_input": "2022-03-02T15:48:28.131982Z",
     "iopub.status.busy": "2022-03-02T15:48:28.131167Z",
     "iopub.status.idle": "2022-03-02T15:48:28.136799Z",
     "shell.execute_reply": "2022-03-02T15:48:28.137237Z",
     "shell.execute_reply.started": "2022-03-02T13:41:58.970510Z"
    },
    "papermill": {
     "duration": 0.085408,
     "end_time": "2022-03-02T15:48:28.137361",
     "exception": false,
     "start_time": "2022-03-02T15:48:28.051953",
     "status": "completed"
    },
    "tags": []
   },
   "outputs": [
    {
     "data": {
      "text/plain": [
       "38.46"
      ]
     },
     "execution_count": 42,
     "metadata": {},
     "output_type": "execute_result"
    }
   ],
   "source": [
    "get_mape(data['tempm'][100:],temp_predict)"
   ]
  },
  {
   "cell_type": "code",
   "execution_count": 43,
   "id": "4ecaea80",
   "metadata": {
    "execution": {
     "iopub.execute_input": "2022-03-02T15:48:28.292102Z",
     "iopub.status.busy": "2022-03-02T15:48:28.291347Z",
     "iopub.status.idle": "2022-03-02T15:48:28.293774Z",
     "shell.execute_reply": "2022-03-02T15:48:28.293315Z",
     "shell.execute_reply.started": "2022-03-02T13:41:59.515079Z"
    },
    "papermill": {
     "duration": 0.081493,
     "end_time": "2022-03-02T15:48:28.293890",
     "exception": false,
     "start_time": "2022-03-02T15:48:28.212397",
     "status": "completed"
    },
    "tags": []
   },
   "outputs": [],
   "source": [
    "#### The ARIMA Model gives forecast accuracy of 38.46%"
   ]
  },
  {
   "cell_type": "code",
   "execution_count": 44,
   "id": "22cc24e6",
   "metadata": {
    "execution": {
     "iopub.execute_input": "2022-03-02T15:48:28.448253Z",
     "iopub.status.busy": "2022-03-02T15:48:28.447589Z",
     "iopub.status.idle": "2022-03-02T15:48:28.450214Z",
     "shell.execute_reply": "2022-03-02T15:48:28.449802Z",
     "shell.execute_reply.started": "2022-03-02T13:42:07.612899Z"
    },
    "papermill": {
     "duration": 0.081006,
     "end_time": "2022-03-02T15:48:28.450317",
     "exception": false,
     "start_time": "2022-03-02T15:48:28.369311",
     "status": "completed"
    },
    "tags": []
   },
   "outputs": [],
   "source": [
    "#### DEEP LEARNING"
   ]
  },
  {
   "cell_type": "code",
   "execution_count": 45,
   "id": "05f802d9",
   "metadata": {
    "execution": {
     "iopub.execute_input": "2022-03-02T15:48:28.609925Z",
     "iopub.status.busy": "2022-03-02T15:48:28.609273Z",
     "iopub.status.idle": "2022-03-02T15:48:28.612062Z",
     "shell.execute_reply": "2022-03-02T15:48:28.612461Z",
     "shell.execute_reply.started": "2022-03-02T13:43:01.644330Z"
    },
    "papermill": {
     "duration": 0.087019,
     "end_time": "2022-03-02T15:48:28.612601",
     "exception": false,
     "start_time": "2022-03-02T15:48:28.525582",
     "status": "completed"
    },
    "tags": []
   },
   "outputs": [
    {
     "data": {
      "text/html": [
       "<div>\n",
       "<style scoped>\n",
       "    .dataframe tbody tr th:only-of-type {\n",
       "        vertical-align: middle;\n",
       "    }\n",
       "\n",
       "    .dataframe tbody tr th {\n",
       "        vertical-align: top;\n",
       "    }\n",
       "\n",
       "    .dataframe thead th {\n",
       "        text-align: right;\n",
       "    }\n",
       "</style>\n",
       "<table border=\"1\" class=\"dataframe\">\n",
       "  <thead>\n",
       "    <tr style=\"text-align: right;\">\n",
       "      <th></th>\n",
       "      <th>datetime_utc</th>\n",
       "      <th>tempm</th>\n",
       "      <th>mavg_12</th>\n",
       "      <th>ewm</th>\n",
       "    </tr>\n",
       "    <tr>\n",
       "      <th>date</th>\n",
       "      <th></th>\n",
       "      <th></th>\n",
       "      <th></th>\n",
       "      <th></th>\n",
       "    </tr>\n",
       "  </thead>\n",
       "  <tbody>\n",
       "    <tr>\n",
       "      <th>1996-11-01 11:00:00</th>\n",
       "      <td>19961101-11:00</td>\n",
       "      <td>30.00</td>\n",
       "      <td>NaN</td>\n",
       "      <td>30.00</td>\n",
       "    </tr>\n",
       "    <tr>\n",
       "      <th>1996-11-01 12:00:00</th>\n",
       "      <td>19961101-12:00</td>\n",
       "      <td>28.00</td>\n",
       "      <td>NaN</td>\n",
       "      <td>28.89</td>\n",
       "    </tr>\n",
       "    <tr>\n",
       "      <th>1996-11-01 13:00:00</th>\n",
       "      <td>19961101-13:00</td>\n",
       "      <td>24.00</td>\n",
       "      <td>NaN</td>\n",
       "      <td>26.89</td>\n",
       "    </tr>\n",
       "    <tr>\n",
       "      <th>1996-11-01 14:00:00</th>\n",
       "      <td>19961101-14:00</td>\n",
       "      <td>24.00</td>\n",
       "      <td>NaN</td>\n",
       "      <td>25.91</td>\n",
       "    </tr>\n",
       "    <tr>\n",
       "      <th>1996-11-01 16:00:00</th>\n",
       "      <td>19961101-16:00</td>\n",
       "      <td>23.00</td>\n",
       "      <td>NaN</td>\n",
       "      <td>25.04</td>\n",
       "    </tr>\n",
       "  </tbody>\n",
       "</table>\n",
       "</div>"
      ],
      "text/plain": [
       "                       datetime_utc  tempm  mavg_12   ewm\n",
       "date                                                     \n",
       "1996-11-01 11:00:00  19961101-11:00  30.00      NaN 30.00\n",
       "1996-11-01 12:00:00  19961101-12:00  28.00      NaN 28.89\n",
       "1996-11-01 13:00:00  19961101-13:00  24.00      NaN 26.89\n",
       "1996-11-01 14:00:00  19961101-14:00  24.00      NaN 25.91\n",
       "1996-11-01 16:00:00  19961101-16:00  23.00      NaN 25.04"
      ]
     },
     "execution_count": 45,
     "metadata": {},
     "output_type": "execute_result"
    }
   ],
   "source": [
    "data.head()"
   ]
  },
  {
   "cell_type": "code",
   "execution_count": 46,
   "id": "b2303038",
   "metadata": {
    "execution": {
     "iopub.execute_input": "2022-03-02T15:48:28.774469Z",
     "iopub.status.busy": "2022-03-02T15:48:28.773787Z",
     "iopub.status.idle": "2022-03-02T15:48:28.776536Z",
     "shell.execute_reply": "2022-03-02T15:48:28.776947Z",
     "shell.execute_reply.started": "2022-03-02T13:43:06.867857Z"
    },
    "papermill": {
     "duration": 0.088978,
     "end_time": "2022-03-02T15:48:28.777068",
     "exception": false,
     "start_time": "2022-03-02T15:48:28.688090",
     "status": "completed"
    },
    "tags": []
   },
   "outputs": [
    {
     "data": {
      "text/html": [
       "<div>\n",
       "<style scoped>\n",
       "    .dataframe tbody tr th:only-of-type {\n",
       "        vertical-align: middle;\n",
       "    }\n",
       "\n",
       "    .dataframe tbody tr th {\n",
       "        vertical-align: top;\n",
       "    }\n",
       "\n",
       "    .dataframe thead th {\n",
       "        text-align: right;\n",
       "    }\n",
       "</style>\n",
       "<table border=\"1\" class=\"dataframe\">\n",
       "  <thead>\n",
       "    <tr style=\"text-align: right;\">\n",
       "      <th></th>\n",
       "      <th>datetime_utc</th>\n",
       "      <th>conds</th>\n",
       "      <th>dewptm</th>\n",
       "      <th>fog</th>\n",
       "      <th>hum</th>\n",
       "      <th>pressurem</th>\n",
       "      <th>rain</th>\n",
       "      <th>tempm</th>\n",
       "      <th>vism</th>\n",
       "      <th>wspdm</th>\n",
       "    </tr>\n",
       "  </thead>\n",
       "  <tbody>\n",
       "    <tr>\n",
       "      <th>0</th>\n",
       "      <td>19961101-11:00</td>\n",
       "      <td>31</td>\n",
       "      <td>9.00</td>\n",
       "      <td>0</td>\n",
       "      <td>27.00</td>\n",
       "      <td>1010.00</td>\n",
       "      <td>0</td>\n",
       "      <td>30.00</td>\n",
       "      <td>5.00</td>\n",
       "      <td>7.40</td>\n",
       "    </tr>\n",
       "    <tr>\n",
       "      <th>1</th>\n",
       "      <td>19961101-12:00</td>\n",
       "      <td>31</td>\n",
       "      <td>10.00</td>\n",
       "      <td>0</td>\n",
       "      <td>32.00</td>\n",
       "      <td>-9999.00</td>\n",
       "      <td>0</td>\n",
       "      <td>28.00</td>\n",
       "      <td>2.00</td>\n",
       "      <td>0.00</td>\n",
       "    </tr>\n",
       "    <tr>\n",
       "      <th>2</th>\n",
       "      <td>19961101-13:00</td>\n",
       "      <td>31</td>\n",
       "      <td>11.00</td>\n",
       "      <td>0</td>\n",
       "      <td>44.00</td>\n",
       "      <td>-9999.00</td>\n",
       "      <td>0</td>\n",
       "      <td>24.00</td>\n",
       "      <td>2.00</td>\n",
       "      <td>0.00</td>\n",
       "    </tr>\n",
       "    <tr>\n",
       "      <th>3</th>\n",
       "      <td>19961101-14:00</td>\n",
       "      <td>31</td>\n",
       "      <td>10.00</td>\n",
       "      <td>0</td>\n",
       "      <td>41.00</td>\n",
       "      <td>1010.00</td>\n",
       "      <td>0</td>\n",
       "      <td>24.00</td>\n",
       "      <td>2.00</td>\n",
       "      <td>0.00</td>\n",
       "    </tr>\n",
       "    <tr>\n",
       "      <th>4</th>\n",
       "      <td>19961101-16:00</td>\n",
       "      <td>31</td>\n",
       "      <td>11.00</td>\n",
       "      <td>0</td>\n",
       "      <td>47.00</td>\n",
       "      <td>1011.00</td>\n",
       "      <td>0</td>\n",
       "      <td>23.00</td>\n",
       "      <td>1.20</td>\n",
       "      <td>0.00</td>\n",
       "    </tr>\n",
       "  </tbody>\n",
       "</table>\n",
       "</div>"
      ],
      "text/plain": [
       "     datetime_utc  conds  dewptm  fog   hum  pressurem  rain  tempm  vism  \\\n",
       "0  19961101-11:00     31    9.00    0 27.00    1010.00     0  30.00  5.00   \n",
       "1  19961101-12:00     31   10.00    0 32.00   -9999.00     0  28.00  2.00   \n",
       "2  19961101-13:00     31   11.00    0 44.00   -9999.00     0  24.00  2.00   \n",
       "3  19961101-14:00     31   10.00    0 41.00    1010.00     0  24.00  2.00   \n",
       "4  19961101-16:00     31   11.00    0 47.00    1011.00     0  23.00  1.20   \n",
       "\n",
       "   wspdm  \n",
       "0   7.40  \n",
       "1   0.00  \n",
       "2   0.00  \n",
       "3   0.00  \n",
       "4   0.00  "
      ]
     },
     "execution_count": 46,
     "metadata": {},
     "output_type": "execute_result"
    }
   ],
   "source": [
    "df.head()"
   ]
  },
  {
   "cell_type": "markdown",
   "id": "c9a52cae",
   "metadata": {
    "papermill": {
     "duration": 0.076542,
     "end_time": "2022-03-02T15:48:28.931254",
     "exception": false,
     "start_time": "2022-03-02T15:48:28.854712",
     "status": "completed"
    },
    "tags": []
   },
   "source": [
    "#### Performing Deep Learning Model"
   ]
  },
  {
   "cell_type": "code",
   "execution_count": 47,
   "id": "14e4b798",
   "metadata": {
    "execution": {
     "iopub.execute_input": "2022-03-02T15:48:29.089330Z",
     "iopub.status.busy": "2022-03-02T15:48:29.088766Z",
     "iopub.status.idle": "2022-03-02T15:48:33.604246Z",
     "shell.execute_reply": "2022-03-02T15:48:33.603329Z",
     "shell.execute_reply.started": "2022-03-02T13:54:27.475067Z"
    },
    "papermill": {
     "duration": 4.596746,
     "end_time": "2022-03-02T15:48:33.604383",
     "exception": false,
     "start_time": "2022-03-02T15:48:29.007637",
     "status": "completed"
    },
    "tags": []
   },
   "outputs": [],
   "source": [
    "# NN\n",
    "from tensorflow.keras.metrics import RootMeanSquaredError\n",
    "from tensorflow.keras.callbacks import EarlyStopping\n",
    "from tensorflow.keras.losses import MeanSquaredError\n",
    "from tensorflow.keras.layers import Dropout\n",
    "from tensorflow.keras.layers import LSTM\n",
    "from tensorflow.keras.models import Sequential\n",
    "from tensorflow.keras.layers import Dense\n",
    "from sklearn.model_selection import train_test_split"
   ]
  },
  {
   "cell_type": "code",
   "execution_count": 48,
   "id": "4bf6efd6",
   "metadata": {
    "execution": {
     "iopub.execute_input": "2022-03-02T15:48:33.801909Z",
     "iopub.status.busy": "2022-03-02T15:48:33.800936Z",
     "iopub.status.idle": "2022-03-02T15:48:33.811130Z",
     "shell.execute_reply": "2022-03-02T15:48:33.811766Z",
     "shell.execute_reply.started": "2022-03-02T13:46:38.893472Z"
    },
    "papermill": {
     "duration": 0.129988,
     "end_time": "2022-03-02T15:48:33.811975",
     "exception": false,
     "start_time": "2022-03-02T15:48:33.681987",
     "status": "completed"
    },
    "tags": []
   },
   "outputs": [],
   "source": [
    "df1=df.copy()"
   ]
  },
  {
   "cell_type": "code",
   "execution_count": 49,
   "id": "f6d14572",
   "metadata": {
    "execution": {
     "iopub.execute_input": "2022-03-02T15:48:34.085975Z",
     "iopub.status.busy": "2022-03-02T15:48:34.085099Z",
     "iopub.status.idle": "2022-03-02T15:48:34.562255Z",
     "shell.execute_reply": "2022-03-02T15:48:34.562822Z",
     "shell.execute_reply.started": "2022-03-02T13:46:54.931108Z"
    },
    "papermill": {
     "duration": 0.612716,
     "end_time": "2022-03-02T15:48:34.562977",
     "exception": false,
     "start_time": "2022-03-02T15:48:33.950261",
     "status": "completed"
    },
    "tags": []
   },
   "outputs": [
    {
     "data": {
      "text/plain": [
       "datetime_utc            object\n",
       "conds                    int64\n",
       "dewptm                 float64\n",
       "fog                      int64\n",
       "hum                    float64\n",
       "pressurem              float64\n",
       "rain                     int64\n",
       "tempm                  float64\n",
       "vism                   float64\n",
       "wspdm                  float64\n",
       "date            datetime64[ns]\n",
       "dtype: object"
      ]
     },
     "execution_count": 49,
     "metadata": {},
     "output_type": "execute_result"
    }
   ],
   "source": [
    "df1[\"date\"]=pd.to_datetime(df1[\"datetime_utc\"],format=\"%Y%m%d-%H:%M\")\n",
    "df1.dtypes"
   ]
  },
  {
   "cell_type": "code",
   "execution_count": 50,
   "id": "c151f003",
   "metadata": {
    "execution": {
     "iopub.execute_input": "2022-03-02T15:48:34.728834Z",
     "iopub.status.busy": "2022-03-02T15:48:34.727817Z",
     "iopub.status.idle": "2022-03-02T15:48:34.744518Z",
     "shell.execute_reply": "2022-03-02T15:48:34.744125Z",
     "shell.execute_reply.started": "2022-03-02T13:48:00.529145Z"
    },
    "papermill": {
     "duration": 0.104506,
     "end_time": "2022-03-02T15:48:34.744648",
     "exception": false,
     "start_time": "2022-03-02T15:48:34.640142",
     "status": "completed"
    },
    "tags": []
   },
   "outputs": [
    {
     "data": {
      "text/html": [
       "<div>\n",
       "<style scoped>\n",
       "    .dataframe tbody tr th:only-of-type {\n",
       "        vertical-align: middle;\n",
       "    }\n",
       "\n",
       "    .dataframe tbody tr th {\n",
       "        vertical-align: top;\n",
       "    }\n",
       "\n",
       "    .dataframe thead th {\n",
       "        text-align: right;\n",
       "    }\n",
       "</style>\n",
       "<table border=\"1\" class=\"dataframe\">\n",
       "  <thead>\n",
       "    <tr style=\"text-align: right;\">\n",
       "      <th></th>\n",
       "      <th>datetime_utc</th>\n",
       "      <th>conds</th>\n",
       "      <th>dewptm</th>\n",
       "      <th>fog</th>\n",
       "      <th>hum</th>\n",
       "      <th>pressurem</th>\n",
       "      <th>rain</th>\n",
       "      <th>tempm</th>\n",
       "      <th>vism</th>\n",
       "      <th>wspdm</th>\n",
       "    </tr>\n",
       "    <tr>\n",
       "      <th>date</th>\n",
       "      <th></th>\n",
       "      <th></th>\n",
       "      <th></th>\n",
       "      <th></th>\n",
       "      <th></th>\n",
       "      <th></th>\n",
       "      <th></th>\n",
       "      <th></th>\n",
       "      <th></th>\n",
       "      <th></th>\n",
       "    </tr>\n",
       "  </thead>\n",
       "  <tbody>\n",
       "    <tr>\n",
       "      <th>1996-11-01 11:00:00</th>\n",
       "      <td>19961101-11:00</td>\n",
       "      <td>31</td>\n",
       "      <td>9.00</td>\n",
       "      <td>0</td>\n",
       "      <td>27.00</td>\n",
       "      <td>1010.00</td>\n",
       "      <td>0</td>\n",
       "      <td>30.00</td>\n",
       "      <td>5.00</td>\n",
       "      <td>7.40</td>\n",
       "    </tr>\n",
       "    <tr>\n",
       "      <th>1996-11-01 12:00:00</th>\n",
       "      <td>19961101-12:00</td>\n",
       "      <td>31</td>\n",
       "      <td>10.00</td>\n",
       "      <td>0</td>\n",
       "      <td>32.00</td>\n",
       "      <td>-9999.00</td>\n",
       "      <td>0</td>\n",
       "      <td>28.00</td>\n",
       "      <td>2.00</td>\n",
       "      <td>0.00</td>\n",
       "    </tr>\n",
       "    <tr>\n",
       "      <th>1996-11-01 13:00:00</th>\n",
       "      <td>19961101-13:00</td>\n",
       "      <td>31</td>\n",
       "      <td>11.00</td>\n",
       "      <td>0</td>\n",
       "      <td>44.00</td>\n",
       "      <td>-9999.00</td>\n",
       "      <td>0</td>\n",
       "      <td>24.00</td>\n",
       "      <td>2.00</td>\n",
       "      <td>0.00</td>\n",
       "    </tr>\n",
       "    <tr>\n",
       "      <th>1996-11-01 14:00:00</th>\n",
       "      <td>19961101-14:00</td>\n",
       "      <td>31</td>\n",
       "      <td>10.00</td>\n",
       "      <td>0</td>\n",
       "      <td>41.00</td>\n",
       "      <td>1010.00</td>\n",
       "      <td>0</td>\n",
       "      <td>24.00</td>\n",
       "      <td>2.00</td>\n",
       "      <td>0.00</td>\n",
       "    </tr>\n",
       "    <tr>\n",
       "      <th>1996-11-01 16:00:00</th>\n",
       "      <td>19961101-16:00</td>\n",
       "      <td>31</td>\n",
       "      <td>11.00</td>\n",
       "      <td>0</td>\n",
       "      <td>47.00</td>\n",
       "      <td>1011.00</td>\n",
       "      <td>0</td>\n",
       "      <td>23.00</td>\n",
       "      <td>1.20</td>\n",
       "      <td>0.00</td>\n",
       "    </tr>\n",
       "  </tbody>\n",
       "</table>\n",
       "</div>"
      ],
      "text/plain": [
       "                       datetime_utc  conds  dewptm  fog   hum  pressurem  \\\n",
       "date                                                                       \n",
       "1996-11-01 11:00:00  19961101-11:00     31    9.00    0 27.00    1010.00   \n",
       "1996-11-01 12:00:00  19961101-12:00     31   10.00    0 32.00   -9999.00   \n",
       "1996-11-01 13:00:00  19961101-13:00     31   11.00    0 44.00   -9999.00   \n",
       "1996-11-01 14:00:00  19961101-14:00     31   10.00    0 41.00    1010.00   \n",
       "1996-11-01 16:00:00  19961101-16:00     31   11.00    0 47.00    1011.00   \n",
       "\n",
       "                     rain  tempm  vism  wspdm  \n",
       "date                                           \n",
       "1996-11-01 11:00:00     0  30.00  5.00   7.40  \n",
       "1996-11-01 12:00:00     0  28.00  2.00   0.00  \n",
       "1996-11-01 13:00:00     0  24.00  2.00   0.00  \n",
       "1996-11-01 14:00:00     0  24.00  2.00   0.00  \n",
       "1996-11-01 16:00:00     0  23.00  1.20   0.00  "
      ]
     },
     "execution_count": 50,
     "metadata": {},
     "output_type": "execute_result"
    }
   ],
   "source": [
    "df1=df1.set_index(\"date\")\n",
    "df1.head()"
   ]
  },
  {
   "cell_type": "code",
   "execution_count": 51,
   "id": "1a7d2b0a",
   "metadata": {
    "execution": {
     "iopub.execute_input": "2022-03-02T15:48:34.919042Z",
     "iopub.status.busy": "2022-03-02T15:48:34.918047Z",
     "iopub.status.idle": "2022-03-02T15:48:34.926759Z",
     "shell.execute_reply": "2022-03-02T15:48:34.926318Z",
     "shell.execute_reply.started": "2022-03-02T13:48:28.773336Z"
    },
    "papermill": {
     "duration": 0.091346,
     "end_time": "2022-03-02T15:48:34.926881",
     "exception": false,
     "start_time": "2022-03-02T15:48:34.835535",
     "status": "completed"
    },
    "tags": []
   },
   "outputs": [],
   "source": [
    "df1 = df1.drop(['datetime_utc'],axis=1)"
   ]
  },
  {
   "cell_type": "code",
   "execution_count": 52,
   "id": "3732efc8",
   "metadata": {
    "execution": {
     "iopub.execute_input": "2022-03-02T15:48:35.086249Z",
     "iopub.status.busy": "2022-03-02T15:48:35.085443Z",
     "iopub.status.idle": "2022-03-02T15:48:35.092029Z",
     "shell.execute_reply": "2022-03-02T15:48:35.091608Z",
     "shell.execute_reply.started": "2022-03-02T13:54:02.139328Z"
    },
    "papermill": {
     "duration": 0.087778,
     "end_time": "2022-03-02T15:48:35.092143",
     "exception": false,
     "start_time": "2022-03-02T15:48:35.004365",
     "status": "completed"
    },
    "tags": []
   },
   "outputs": [],
   "source": [
    "X = df1.drop(['tempm'],axis=1)\n",
    "Y=df1['tempm']"
   ]
  },
  {
   "cell_type": "code",
   "execution_count": 53,
   "id": "bce54980",
   "metadata": {
    "execution": {
     "iopub.execute_input": "2022-03-02T15:48:35.252060Z",
     "iopub.status.busy": "2022-03-02T15:48:35.251250Z",
     "iopub.status.idle": "2022-03-02T15:48:35.271225Z",
     "shell.execute_reply": "2022-03-02T15:48:35.270812Z",
     "shell.execute_reply.started": "2022-03-02T13:54:44.909007Z"
    },
    "papermill": {
     "duration": 0.10135,
     "end_time": "2022-03-02T15:48:35.271363",
     "exception": false,
     "start_time": "2022-03-02T15:48:35.170013",
     "status": "completed"
    },
    "tags": []
   },
   "outputs": [
    {
     "name": "stdout",
     "output_type": "stream",
     "text": [
      "(79130, 8) (79130,) (19783, 8) (19783,)\n"
     ]
    }
   ],
   "source": [
    "X_train, X_test,Y_train,Y_test = train_test_split(X,Y, test_size = 0.2, random_state= 2)\n",
    "print(X_train.shape, Y_train.shape, X_test.shape,Y_test.shape)"
   ]
  },
  {
   "cell_type": "code",
   "execution_count": 54,
   "id": "59c92f5d",
   "metadata": {
    "execution": {
     "iopub.execute_input": "2022-03-02T15:48:35.438303Z",
     "iopub.status.busy": "2022-03-02T15:48:35.436372Z",
     "iopub.status.idle": "2022-03-02T15:48:35.454901Z",
     "shell.execute_reply": "2022-03-02T15:48:35.455776Z",
     "shell.execute_reply.started": "2022-03-02T13:55:31.524876Z"
    },
    "papermill": {
     "duration": 0.106081,
     "end_time": "2022-03-02T15:48:35.456080",
     "exception": false,
     "start_time": "2022-03-02T15:48:35.349999",
     "status": "completed"
    },
    "tags": []
   },
   "outputs": [
    {
     "data": {
      "text/plain": [
       "(79130,)"
      ]
     },
     "execution_count": 54,
     "metadata": {},
     "output_type": "execute_result"
    }
   ],
   "source": [
    "Y_train.shape"
   ]
  },
  {
   "cell_type": "markdown",
   "id": "49cb7c16",
   "metadata": {
    "papermill": {
     "duration": 0.078048,
     "end_time": "2022-03-02T15:48:35.617414",
     "exception": false,
     "start_time": "2022-03-02T15:48:35.539366",
     "status": "completed"
    },
    "tags": []
   },
   "source": [
    "#### Data Pre-Processing"
   ]
  },
  {
   "cell_type": "code",
   "execution_count": 55,
   "id": "10975f5e",
   "metadata": {
    "execution": {
     "iopub.execute_input": "2022-03-02T15:48:35.780425Z",
     "iopub.status.busy": "2022-03-02T15:48:35.779381Z",
     "iopub.status.idle": "2022-03-02T15:48:35.801229Z",
     "shell.execute_reply": "2022-03-02T15:48:35.800758Z",
     "shell.execute_reply.started": "2022-03-02T13:56:04.178780Z"
    },
    "papermill": {
     "duration": 0.106011,
     "end_time": "2022-03-02T15:48:35.801344",
     "exception": false,
     "start_time": "2022-03-02T15:48:35.695333",
     "status": "completed"
    },
    "tags": []
   },
   "outputs": [],
   "source": [
    "from sklearn.preprocessing import StandardScaler\n",
    "scaler = StandardScaler()\n",
    "X_train_scaled = scaler.fit_transform(X_train)\n",
    "X_test_scaled =  scaler.fit_transform(X_test)"
   ]
  },
  {
   "cell_type": "code",
   "execution_count": 56,
   "id": "97712188",
   "metadata": {
    "execution": {
     "iopub.execute_input": "2022-03-02T15:48:35.966792Z",
     "iopub.status.busy": "2022-03-02T15:48:35.965608Z",
     "iopub.status.idle": "2022-03-02T15:48:35.969221Z",
     "shell.execute_reply": "2022-03-02T15:48:35.968799Z",
     "shell.execute_reply.started": "2022-03-02T13:56:05.522686Z"
    },
    "papermill": {
     "duration": 0.089556,
     "end_time": "2022-03-02T15:48:35.969344",
     "exception": false,
     "start_time": "2022-03-02T15:48:35.879788",
     "status": "completed"
    },
    "tags": []
   },
   "outputs": [
    {
     "data": {
      "text/plain": [
       "(79130, 8)"
      ]
     },
     "execution_count": 56,
     "metadata": {},
     "output_type": "execute_result"
    }
   ],
   "source": [
    "X_train_scaled.shape"
   ]
  },
  {
   "cell_type": "code",
   "execution_count": 57,
   "id": "601c5083",
   "metadata": {
    "execution": {
     "iopub.execute_input": "2022-03-02T15:48:36.133102Z",
     "iopub.status.busy": "2022-03-02T15:48:36.132195Z",
     "iopub.status.idle": "2022-03-02T15:48:36.134154Z",
     "shell.execute_reply": "2022-03-02T15:48:36.134547Z",
     "shell.execute_reply.started": "2022-03-02T14:16:13.614522Z"
    },
    "papermill": {
     "duration": 0.085491,
     "end_time": "2022-03-02T15:48:36.134709",
     "exception": false,
     "start_time": "2022-03-02T15:48:36.049218",
     "status": "completed"
    },
    "tags": []
   },
   "outputs": [],
   "source": [
    "from tensorflow.keras.callbacks import EarlyStopping\n",
    "callbacks = EarlyStopping(monitor = \"loss\",patience = 5)"
   ]
  },
  {
   "cell_type": "code",
   "execution_count": 58,
   "id": "5d16ab90",
   "metadata": {
    "execution": {
     "iopub.execute_input": "2022-03-02T15:48:36.300584Z",
     "iopub.status.busy": "2022-03-02T15:48:36.299489Z",
     "iopub.status.idle": "2022-03-02T15:54:34.061723Z",
     "shell.execute_reply": "2022-03-02T15:54:33.998251Z",
     "shell.execute_reply.started": "2022-03-02T14:37:22.046984Z"
    },
    "papermill": {
     "duration": 357.849148,
     "end_time": "2022-03-02T15:54:34.061910",
     "exception": false,
     "start_time": "2022-03-02T15:48:36.212762",
     "status": "completed"
    },
    "tags": []
   },
   "outputs": [
    {
     "name": "stderr",
     "output_type": "stream",
     "text": [
      "2022-03-02 15:48:36.375634: I tensorflow/stream_executor/cuda/cuda_gpu_executor.cc:937] successful NUMA node read from SysFS had negative value (-1), but there must be at least one NUMA node, so returning NUMA node zero\n",
      "2022-03-02 15:48:36.477621: I tensorflow/stream_executor/cuda/cuda_gpu_executor.cc:937] successful NUMA node read from SysFS had negative value (-1), but there must be at least one NUMA node, so returning NUMA node zero\n",
      "2022-03-02 15:48:36.478500: I tensorflow/stream_executor/cuda/cuda_gpu_executor.cc:937] successful NUMA node read from SysFS had negative value (-1), but there must be at least one NUMA node, so returning NUMA node zero\n",
      "2022-03-02 15:48:36.479956: I tensorflow/core/platform/cpu_feature_guard.cc:142] This TensorFlow binary is optimized with oneAPI Deep Neural Network Library (oneDNN) to use the following CPU instructions in performance-critical operations:  AVX2 AVX512F FMA\n",
      "To enable them in other operations, rebuild TensorFlow with the appropriate compiler flags.\n",
      "2022-03-02 15:48:36.481148: I tensorflow/stream_executor/cuda/cuda_gpu_executor.cc:937] successful NUMA node read from SysFS had negative value (-1), but there must be at least one NUMA node, so returning NUMA node zero\n",
      "2022-03-02 15:48:36.481939: I tensorflow/stream_executor/cuda/cuda_gpu_executor.cc:937] successful NUMA node read from SysFS had negative value (-1), but there must be at least one NUMA node, so returning NUMA node zero\n",
      "2022-03-02 15:48:36.482674: I tensorflow/stream_executor/cuda/cuda_gpu_executor.cc:937] successful NUMA node read from SysFS had negative value (-1), but there must be at least one NUMA node, so returning NUMA node zero\n",
      "2022-03-02 15:48:38.469313: I tensorflow/stream_executor/cuda/cuda_gpu_executor.cc:937] successful NUMA node read from SysFS had negative value (-1), but there must be at least one NUMA node, so returning NUMA node zero\n",
      "2022-03-02 15:48:38.470281: I tensorflow/stream_executor/cuda/cuda_gpu_executor.cc:937] successful NUMA node read from SysFS had negative value (-1), but there must be at least one NUMA node, so returning NUMA node zero\n",
      "2022-03-02 15:48:38.470991: I tensorflow/stream_executor/cuda/cuda_gpu_executor.cc:937] successful NUMA node read from SysFS had negative value (-1), but there must be at least one NUMA node, so returning NUMA node zero\n",
      "2022-03-02 15:48:38.471574: I tensorflow/core/common_runtime/gpu/gpu_device.cc:1510] Created device /job:localhost/replica:0/task:0/device:GPU:0 with 15403 MB memory:  -> device: 0, name: Tesla P100-PCIE-16GB, pci bus id: 0000:00:04.0, compute capability: 6.0\n",
      "2022-03-02 15:48:38.934737: I tensorflow/compiler/mlir/mlir_graph_optimization_pass.cc:185] None of the MLIR Optimization Passes are enabled (registered 2)\n"
     ]
    },
    {
     "name": "stdout",
     "output_type": "stream",
     "text": [
      "Epoch 1/50\n",
      "3166/3166 [==============================] - 8s 2ms/step - loss: 144.5686\n",
      "Epoch 2/50\n",
      "3166/3166 [==============================] - 7s 2ms/step - loss: 110.6671\n",
      "Epoch 3/50\n",
      "3166/3166 [==============================] - 7s 2ms/step - loss: 128.1106\n",
      "Epoch 4/50\n",
      "3166/3166 [==============================] - 7s 2ms/step - loss: 60.2536\n",
      "Epoch 5/50\n",
      "3166/3166 [==============================] - 7s 2ms/step - loss: 44.3134\n",
      "Epoch 6/50\n",
      "3166/3166 [==============================] - 7s 2ms/step - loss: 21.7448\n",
      "Epoch 7/50\n",
      "3166/3166 [==============================] - 7s 2ms/step - loss: 12.8126\n",
      "Epoch 8/50\n",
      "3166/3166 [==============================] - 7s 2ms/step - loss: 7.7267\n",
      "Epoch 9/50\n",
      "3166/3166 [==============================] - 7s 2ms/step - loss: 5.2740\n",
      "Epoch 10/50\n",
      "3166/3166 [==============================] - 7s 2ms/step - loss: 4.4638\n",
      "Epoch 11/50\n",
      "3166/3166 [==============================] - 7s 2ms/step - loss: 3.9967\n",
      "Epoch 12/50\n",
      "3166/3166 [==============================] - 8s 2ms/step - loss: 3.7832\n",
      "Epoch 13/50\n",
      "3166/3166 [==============================] - 7s 2ms/step - loss: 3.7054\n",
      "Epoch 14/50\n",
      "3166/3166 [==============================] - 7s 2ms/step - loss: 3.9060\n",
      "Epoch 15/50\n",
      "3166/3166 [==============================] - 7s 2ms/step - loss: 3.3254\n",
      "Epoch 16/50\n",
      "3166/3166 [==============================] - 7s 2ms/step - loss: 3.3315\n",
      "Epoch 17/50\n",
      "3166/3166 [==============================] - 7s 2ms/step - loss: 3.8977\n",
      "Epoch 18/50\n",
      "3166/3166 [==============================] - 7s 2ms/step - loss: 3.3364\n",
      "Epoch 19/50\n",
      "3166/3166 [==============================] - 7s 2ms/step - loss: 3.0137\n",
      "Epoch 20/50\n",
      "3166/3166 [==============================] - 7s 2ms/step - loss: 3.3319\n",
      "Epoch 21/50\n",
      "3166/3166 [==============================] - 7s 2ms/step - loss: 6.3550\n",
      "Epoch 22/50\n",
      "3166/3166 [==============================] - 7s 2ms/step - loss: 7.9002\n",
      "Epoch 23/50\n",
      "3166/3166 [==============================] - 7s 2ms/step - loss: 2.8589\n",
      "Epoch 24/50\n",
      "3166/3166 [==============================] - 7s 2ms/step - loss: 2.8225\n",
      "Epoch 25/50\n",
      "3166/3166 [==============================] - 7s 2ms/step - loss: 3.1533\n",
      "Epoch 26/50\n",
      "3166/3166 [==============================] - 8s 2ms/step - loss: 4.1834\n",
      "Epoch 27/50\n",
      "3166/3166 [==============================] - 7s 2ms/step - loss: 2.8341\n",
      "Epoch 28/50\n",
      "3166/3166 [==============================] - 7s 2ms/step - loss: 2.8307\n",
      "Epoch 29/50\n",
      "3166/3166 [==============================] - 7s 2ms/step - loss: 2.6323\n",
      "Epoch 30/50\n",
      "3166/3166 [==============================] - 7s 2ms/step - loss: 4.2040\n",
      "Epoch 31/50\n",
      "3166/3166 [==============================] - 8s 2ms/step - loss: 2.6169\n",
      "Epoch 32/50\n",
      "3166/3166 [==============================] - 7s 2ms/step - loss: 2.7337\n",
      "Epoch 33/50\n",
      "3166/3166 [==============================] - 7s 2ms/step - loss: 2.5609\n",
      "Epoch 34/50\n",
      "3166/3166 [==============================] - 7s 2ms/step - loss: 2.5793\n",
      "Epoch 35/50\n",
      "3166/3166 [==============================] - 8s 2ms/step - loss: 2.5480\n",
      "Epoch 36/50\n",
      "3166/3166 [==============================] - 7s 2ms/step - loss: 2.7892\n",
      "Epoch 37/50\n",
      "3166/3166 [==============================] - 7s 2ms/step - loss: 2.6450\n",
      "Epoch 38/50\n",
      "3166/3166 [==============================] - 7s 2ms/step - loss: 2.5030\n",
      "Epoch 39/50\n",
      "3166/3166 [==============================] - 7s 2ms/step - loss: 2.4400\n",
      "Epoch 40/50\n",
      "3166/3166 [==============================] - 8s 3ms/step - loss: 2.7903\n",
      "Epoch 41/50\n",
      "3166/3166 [==============================] - 7s 2ms/step - loss: 2.9037\n",
      "Epoch 42/50\n",
      "3166/3166 [==============================] - 7s 2ms/step - loss: 2.4589\n",
      "Epoch 43/50\n",
      "3166/3166 [==============================] - 8s 2ms/step - loss: 2.4227\n",
      "Epoch 44/50\n",
      "3166/3166 [==============================] - 8s 2ms/step - loss: 2.3711\n",
      "Epoch 45/50\n",
      "3166/3166 [==============================] - 8s 3ms/step - loss: 6.0518\n",
      "Epoch 46/50\n",
      "3166/3166 [==============================] - 7s 2ms/step - loss: 2.4169\n",
      "Epoch 47/50\n",
      "3166/3166 [==============================] - 7s 2ms/step - loss: 5.0014\n",
      "Epoch 48/50\n",
      "3166/3166 [==============================] - 7s 2ms/step - loss: 2.7559\n",
      "Epoch 49/50\n",
      "3166/3166 [==============================] - 8s 3ms/step - loss: 2.7621\n"
     ]
    }
   ],
   "source": [
    "model = Sequential()\n",
    "model.add(Dense(units = 32, input_dim = 8, activation=\"relu\"))\n",
    "model.add(Dropout(0.2))\n",
    "model.add(Dense(units = 32, activation=\"relu\"))\n",
    "model.add(Dropout(0.2))\n",
    "model.add(Dense(units = 32, activation=\"relu\"))\n",
    "model.add(Dropout(0.2))\n",
    "model.add(Dense(units = 32, activation=\"relu\"))\n",
    "model.add(Dense(1))\n",
    "model.compile(loss = \"mse\", optimizer = \"adam\")\n",
    "history = model.fit(X_train_scaled, Y_train,batch_size = 25, epochs = 50, callbacks = [callbacks])"
   ]
  },
  {
   "cell_type": "code",
   "execution_count": 59,
   "id": "a381e8a5",
   "metadata": {
    "execution": {
     "iopub.execute_input": "2022-03-02T15:54:38.767767Z",
     "iopub.status.busy": "2022-03-02T15:54:38.767167Z",
     "iopub.status.idle": "2022-03-02T15:55:01.490105Z",
     "shell.execute_reply": "2022-03-02T15:55:01.490757Z",
     "shell.execute_reply.started": "2022-03-02T14:44:26.073172Z"
    },
    "papermill": {
     "duration": 25.200249,
     "end_time": "2022-03-02T15:55:01.490911",
     "exception": false,
     "start_time": "2022-03-02T15:54:36.290662",
     "status": "completed"
    },
    "tags": []
   },
   "outputs": [
    {
     "data": {
      "image/png": "[encoded data removed]",
      "text/plain": [
       "<Figure size 432x288 with 1 Axes>"
      ]
     },
     "metadata": {
      "needs_background": "light"
     },
     "output_type": "display_data"
    }
   ],
   "source": [
    "# summarize history for loss\n",
    "plt.plot(history.history['loss'])\n",
    "plt.title('model loss')\n",
    "plt.ylabel('loss')\n",
    "plt.xlabel('epoch')\n",
    "plt.legend(['train'], loc='upper left')\n",
    "plt.show()"
   ]
  },
  {
   "cell_type": "code",
   "execution_count": 60,
   "id": "5c19c60e",
   "metadata": {
    "execution": {
     "iopub.execute_input": "2022-03-02T15:55:05.997213Z",
     "iopub.status.busy": "2022-03-02T15:55:05.996377Z",
     "iopub.status.idle": "2022-03-02T15:55:06.716447Z",
     "shell.execute_reply": "2022-03-02T15:55:06.715979Z",
     "shell.execute_reply.started": "2022-03-02T14:44:52.447751Z"
    },
    "papermill": {
     "duration": 2.97233,
     "end_time": "2022-03-02T15:55:06.716602",
     "exception": false,
     "start_time": "2022-03-02T15:55:03.744272",
     "status": "completed"
    },
    "tags": []
   },
   "outputs": [],
   "source": [
    "preds = model.predict(X_test_scaled)"
   ]
  },
  {
   "cell_type": "code",
   "execution_count": 61,
   "id": "334c9b0a",
   "metadata": {
    "execution": {
     "iopub.execute_input": "2022-03-02T15:55:11.427094Z",
     "iopub.status.busy": "2022-03-02T15:55:11.425864Z",
     "iopub.status.idle": "2022-03-02T15:55:11.429499Z",
     "shell.execute_reply": "2022-03-02T15:55:11.429100Z",
     "shell.execute_reply.started": "2022-03-02T14:44:53.825476Z"
    },
    "papermill": {
     "duration": 2.495937,
     "end_time": "2022-03-02T15:55:11.429641",
     "exception": false,
     "start_time": "2022-03-02T15:55:08.933704",
     "status": "completed"
    },
    "tags": []
   },
   "outputs": [
    {
     "data": {
      "text/plain": [
       "array([[28.14903 ],\n",
       "       [28.139011],\n",
       "       [23.844564],\n",
       "       ...,\n",
       "       [13.168217],\n",
       "       [32.967735],\n",
       "       [29.38517 ]], dtype=float32)"
      ]
     },
     "execution_count": 61,
     "metadata": {},
     "output_type": "execute_result"
    }
   ],
   "source": [
    "preds"
   ]
  },
  {
   "cell_type": "code",
   "execution_count": 62,
   "id": "06f0ca15",
   "metadata": {
    "execution": {
     "iopub.execute_input": "2022-03-02T15:55:15.922426Z",
     "iopub.status.busy": "2022-03-02T15:55:15.921503Z",
     "iopub.status.idle": "2022-03-02T15:55:15.923822Z",
     "shell.execute_reply": "2022-03-02T15:55:15.923280Z",
     "shell.execute_reply.started": "2022-03-02T14:44:55.496778Z"
    },
    "papermill": {
     "duration": 2.24086,
     "end_time": "2022-03-02T15:55:15.923943",
     "exception": false,
     "start_time": "2022-03-02T15:55:13.683083",
     "status": "completed"
    },
    "tags": []
   },
   "outputs": [],
   "source": [
    "preds=pd.DataFrame(preds)"
   ]
  },
  {
   "cell_type": "code",
   "execution_count": 63,
   "id": "63e4a026",
   "metadata": {
    "execution": {
     "iopub.execute_input": "2022-03-02T15:55:21.004218Z",
     "iopub.status.busy": "2022-03-02T15:55:21.002863Z",
     "iopub.status.idle": "2022-03-02T15:55:21.012224Z",
     "shell.execute_reply": "2022-03-02T15:55:21.013060Z",
     "shell.execute_reply.started": "2022-03-02T14:45:25.927459Z"
    },
    "papermill": {
     "duration": 2.848636,
     "end_time": "2022-03-02T15:55:21.013281",
     "exception": false,
     "start_time": "2022-03-02T15:55:18.164645",
     "status": "completed"
    },
    "tags": []
   },
   "outputs": [
    {
     "data": {
      "text/html": [
       "<div>\n",
       "<style scoped>\n",
       "    .dataframe tbody tr th:only-of-type {\n",
       "        vertical-align: middle;\n",
       "    }\n",
       "\n",
       "    .dataframe tbody tr th {\n",
       "        vertical-align: top;\n",
       "    }\n",
       "\n",
       "    .dataframe thead th {\n",
       "        text-align: right;\n",
       "    }\n",
       "</style>\n",
       "<table border=\"1\" class=\"dataframe\">\n",
       "  <thead>\n",
       "    <tr style=\"text-align: right;\">\n",
       "      <th></th>\n",
       "      <th>0</th>\n",
       "    </tr>\n",
       "  </thead>\n",
       "  <tbody>\n",
       "    <tr>\n",
       "      <th>0</th>\n",
       "      <td>28.15</td>\n",
       "    </tr>\n",
       "    <tr>\n",
       "      <th>1</th>\n",
       "      <td>28.14</td>\n",
       "    </tr>\n",
       "    <tr>\n",
       "      <th>2</th>\n",
       "      <td>23.84</td>\n",
       "    </tr>\n",
       "    <tr>\n",
       "      <th>3</th>\n",
       "      <td>12.27</td>\n",
       "    </tr>\n",
       "    <tr>\n",
       "      <th>4</th>\n",
       "      <td>34.84</td>\n",
       "    </tr>\n",
       "    <tr>\n",
       "      <th>...</th>\n",
       "      <td>...</td>\n",
       "    </tr>\n",
       "    <tr>\n",
       "      <th>19778</th>\n",
       "      <td>29.31</td>\n",
       "    </tr>\n",
       "    <tr>\n",
       "      <th>19779</th>\n",
       "      <td>31.59</td>\n",
       "    </tr>\n",
       "    <tr>\n",
       "      <th>19780</th>\n",
       "      <td>13.17</td>\n",
       "    </tr>\n",
       "    <tr>\n",
       "      <th>19781</th>\n",
       "      <td>32.97</td>\n",
       "    </tr>\n",
       "    <tr>\n",
       "      <th>19782</th>\n",
       "      <td>29.39</td>\n",
       "    </tr>\n",
       "  </tbody>\n",
       "</table>\n",
       "<p>19783 rows × 1 columns</p>\n",
       "</div>"
      ],
      "text/plain": [
       "          0\n",
       "0     28.15\n",
       "1     28.14\n",
       "2     23.84\n",
       "3     12.27\n",
       "4     34.84\n",
       "...     ...\n",
       "19778 29.31\n",
       "19779 31.59\n",
       "19780 13.17\n",
       "19781 32.97\n",
       "19782 29.39\n",
       "\n",
       "[19783 rows x 1 columns]"
      ]
     },
     "execution_count": 63,
     "metadata": {},
     "output_type": "execute_result"
    }
   ],
   "source": [
    "#### These are the Prediction Values for Deep Learning Model\n",
    "preds"
   ]
  },
  {
   "cell_type": "code",
   "execution_count": null,
   "id": "1a7429f6",
   "metadata": {
    "papermill": {
     "duration": 2.249672,
     "end_time": "2022-03-02T15:55:25.627153",
     "exception": false,
     "start_time": "2022-03-02T15:55:23.377481",
     "status": "completed"
    },
    "tags": []
   },
   "outputs": [],
   "source": []
  }
 ],
 "metadata": {
  "kernelspec": {
   "display_name": "Python 3",
   "language": "python",
   "name": "python3"
  },
  "language_info": {
   "codemirror_mode": {
    "name": "ipython",
    "version": 3
   },
   "file_extension": ".py",
   "mimetype": "text/x-python",
   "name": "python",
   "nbconvert_exporter": "python",
   "pygments_lexer": "ipython3",
   "version": "3.7.12"
  },
  "papermill": {
   "default_parameters": {},
   "duration": 504.199929,
   "end_time": "2022-03-02T15:55:31.179768",
   "environment_variables": {},
   "exception": null,
   "input_path": "__notebook__.ipynb",
   "output_path": "__notebook__.ipynb",
   "parameters": {},
   "start_time": "2022-03-02T15:47:06.979839",
   "version": "2.3.3"
  }
 },
 "nbformat": 4,
 "nbformat_minor": 5
}
